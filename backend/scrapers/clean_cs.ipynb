{
 "cells": [
  {
   "cell_type": "code",
   "execution_count": 1,
   "id": "6d3a2394",
   "metadata": {},
   "outputs": [],
   "source": [
    "import json\n",
    "import re\n",
    "\n",
    "file_path = \"cs.json\"\n",
    "with open(file_path, 'r') as json_file:\n",
    "    data = json.load(json_file)"
   ]
  },
  {
   "cell_type": "code",
   "execution_count": 3,
   "id": "31df5e4c",
   "metadata": {},
   "outputs": [],
   "source": [
    "products = []\n",
    "b = []\n",
    "failed = []\n",
    "dups = 0\n",
    "base_url = 'https://coldstorage.com.sg'"
   ]
  },
  {
   "cell_type": "code",
   "execution_count": 4,
   "id": "637dcad4",
   "metadata": {},
   "outputs": [],
   "source": [
    "#just for checking\n",
    "offdisp = []\n",
    "size = []\n",
    "price_bef = []\n",
    "price_aft = []\n",
    "total = 0"
   ]
  },
  {
   "cell_type": "code",
   "execution_count": 5,
   "id": "f3ec9c24",
   "metadata": {},
   "outputs": [],
   "source": [
    "def get_offer_qty(item):\n",
    "    \n",
    "    price_bef.append(item['price'])\n",
    "    price = float(re.findall(r'\\d+(?:\\.\\d+)?', item['price'])[0])\n",
    "    \n",
    "    if item['offer_display']:\n",
    "        #need to do some string splitting here\n",
    "        if '% off' in item['offer_display']:\n",
    "            perc = int(item['offer_display'].strip(' % off'))\n",
    "            price = round(price/max(perc, 0.000001)*100, 2)\n",
    "            price_aft.append(price)\n",
    "            return None, item['price'],item['offer_display'], price #change later\n",
    "        else:\n",
    "            _, qty, _, i = item['offer_display'].split(' ')\n",
    "            return qty, i ,item['offer_display'], price\n",
    "    else:\n",
    "        return None, None, None, price\n",
    "\n",
    "for cat, items in data.items():\n",
    "    for item in items:\n",
    "        total+=1\n",
    "        product = {}\n",
    "        present = False\n",
    "        name = item['name']\n",
    "        \n",
    "        #check for duplicates\n",
    "        if name in b:\n",
    "            #PRODUCT already within dict, add additional category if needed\n",
    "            present = True\n",
    "            dups+=1\n",
    "        else:\n",
    "            b.append(name)\n",
    "            \n",
    "        \n",
    "        if present:\n",
    "            continue\n",
    "            \n",
    "        try:\n",
    "            product['product_url'] = base_url + item['url_to_product']\n",
    "            product['market_id'] = 2\n",
    "            product['barcodes'] = None\n",
    "            product['brand'] = item['brand']\n",
    "            product['availability'] = True #by default\n",
    "            product['name'] = item['name']\n",
    "            \n",
    "            try:\n",
    "                product['image'] = item['image_url']\n",
    "            except:\n",
    "                product['image'] = None\n",
    "                \n",
    "            try:\n",
    "                size.append(item['size']) #remove later\n",
    "                product['quantity'] = item['size'].strip('Size: ') #need edit\n",
    "                 \n",
    "            except:\n",
    "                product['quantity'] = None\n",
    "                #print('size problem')\n",
    "                \n",
    "            offdisp.append(item['offer_display'])\n",
    "            product['offer_qty'],product['offer_price'],product['offer_desc'],product['price'] = get_offer_qty(item)\n",
    "       \n",
    "            products.append(product)\n",
    "        except Exception as e:\n",
    "            failed.append([item, e]) "
   ]
  },
  {
   "cell_type": "code",
   "execution_count": 6,
   "id": "4872957f",
   "metadata": {},
   "outputs": [
    {
     "data": {
      "text/plain": [
       "0"
      ]
     },
     "execution_count": 6,
     "metadata": {},
     "output_type": "execute_result"
    }
   ],
   "source": [
    "len(failed)"
   ]
  },
  {
   "cell_type": "code",
   "execution_count": 7,
   "id": "89abb984",
   "metadata": {},
   "outputs": [
    {
     "data": {
      "text/plain": [
       "7259"
      ]
     },
     "execution_count": 7,
     "metadata": {},
     "output_type": "execute_result"
    }
   ],
   "source": [
    "len(products)"
   ]
  },
  {
   "cell_type": "code",
   "execution_count": 8,
   "id": "218da147",
   "metadata": {},
   "outputs": [
    {
     "data": {
      "text/plain": [
       "1002"
      ]
     },
     "execution_count": 8,
     "metadata": {},
     "output_type": "execute_result"
    }
   ],
   "source": [
    "dups"
   ]
  },
  {
   "cell_type": "code",
   "execution_count": null,
   "id": "879a4825",
   "metadata": {},
   "outputs": [],
   "source": [
    "b"
   ]
  },
  {
   "cell_type": "code",
   "execution_count": 9,
   "id": "34eaaead",
   "metadata": {
    "scrolled": true
   },
   "outputs": [
    {
     "data": {
      "text/plain": [
       "{'product_url': 'https://coldstorage.com.sg/sliced-emmental-5030672',\n",
       " 'market_id': 2,\n",
       " 'barcodes': None,\n",
       " 'brand': 'TRADITION',\n",
       " 'availability': True,\n",
       " 'name': 'Emmental Slices 125g',\n",
       " 'image': 'https://coldstorage.com.sg/vcpimg/thumb/5030672-1.jpg',\n",
       " 'quantity': '125G',\n",
       " 'offer_qty': None,\n",
       " 'offer_price': None,\n",
       " 'offer_desc': None,\n",
       " 'price': 4.1}"
      ]
     },
     "execution_count": 9,
     "metadata": {},
     "output_type": "execute_result"
    }
   ],
   "source": [
    "products[0]"
   ]
  },
  {
   "cell_type": "code",
   "execution_count": 10,
   "id": "775ff0a8",
   "metadata": {},
   "outputs": [],
   "source": [
    "import json\n",
    "\n",
    "rand = {}\n",
    "rand['all'] = products\n",
    "\n",
    "file_path = \"cs_cleaned.json\"\n",
    "with open(file_path, 'w') as json_file:\n",
    "    json.dump(rand, json_file)"
   ]
  }
 ],
 "metadata": {
  "kernelspec": {
   "display_name": "Python 3 (ipykernel)",
   "language": "python",
   "name": "python3"
  },
  "language_info": {
   "codemirror_mode": {
    "name": "ipython",
    "version": 3
   },
   "file_extension": ".py",
   "mimetype": "text/x-python",
   "name": "python",
   "nbconvert_exporter": "python",
   "pygments_lexer": "ipython3",
   "version": "3.9.12"
  }
 },
 "nbformat": 4,
 "nbformat_minor": 5
}
