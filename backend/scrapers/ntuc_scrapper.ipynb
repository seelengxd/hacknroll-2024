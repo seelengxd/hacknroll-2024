{
 "cells": [
  {
   "cell_type": "code",
   "execution_count": 1,
   "id": "7ccb3e98",
   "metadata": {},
   "outputs": [
    {
     "name": "stderr",
     "output_type": "stream",
     "text": [
      "100%|█████████████████████████████████████| 146/146 [00:00<00:00, 598016.00it/s]"
     ]
    },
    {
     "name": "stdout",
     "output_type": "stream",
     "text": [
      "Number of sub-categories in fairprice: 146\n"
     ]
    },
    {
     "name": "stderr",
     "output_type": "stream",
     "text": [
      "\n"
     ]
    }
   ],
   "source": [
    "import requests \n",
    "from bs4 import BeautifulSoup\n",
    "from tqdm import tqdm\n",
    "  \n",
    "URL = \"https://www.fairprice.com.sg/categories\" \n",
    "r = requests.get(URL)\n",
    "\n",
    "soup = BeautifulSoup(r.content, 'html.parser')\n",
    "div_elements = soup.find_all('a', attrs={'data-testid':\"sub-category-item\"})\n",
    "\n",
    "cats = []\n",
    "for div in tqdm(div_elements):\n",
    "    cats.append(div.get('href')[10:])\n",
    "\n",
    "print(f'Number of sub-categories in fairprice: {len(cats)}')"
   ]
  },
  {
   "cell_type": "code",
   "execution_count": 5,
   "id": "579382f3",
   "metadata": {},
   "outputs": [],
   "source": [
    "all_data = {} \n",
    "error_cat = [] #to catch errors"
   ]
  },
  {
   "cell_type": "code",
   "execution_count": 6,
   "id": "5242ddc8",
   "metadata": {
    "collapsed": true
   },
   "outputs": [
    {
     "name": "stdout",
     "output_type": "stream",
     "text": [
      "Now doing sub-category: coles\n",
      "20 found; 1 pages to go through...\n"
     ]
    },
    {
     "name": "stderr",
     "output_type": "stream",
     "text": [
      "100%|█████████████████████████████████████████████| 1/1 [00:00<00:00,  3.34it/s]\n"
     ]
    },
    {
     "name": "stdout",
     "output_type": "stream",
     "text": [
      "Done with sub-category: coles; Total of 20 items found\n",
      "Now doing sub-category: morrisons\n",
      "32 found; 2 pages to go through...\n"
     ]
    },
    {
     "name": "stderr",
     "output_type": "stream",
     "text": [
      "100%|█████████████████████████████████████████████| 2/2 [00:00<00:00,  7.99it/s]\n"
     ]
    },
    {
     "name": "stdout",
     "output_type": "stream",
     "text": [
      "Done with sub-category: morrisons; Total of 32 items found\n",
      "Now doing sub-category: marks--spencer\n",
      "621 found; 32 pages to go through...\n"
     ]
    },
    {
     "name": "stderr",
     "output_type": "stream",
     "text": [
      "100%|███████████████████████████████████████████| 32/32 [00:07<00:00,  4.38it/s]\n"
     ]
    },
    {
     "name": "stdout",
     "output_type": "stream",
     "text": [
      "Done with sub-category: marks--spencer; Total of 621 items found\n",
      "Now doing sub-category: australia-7\n",
      "!!! CANNOT access number of items; likely layer 2 sub category, will extract max of 50 pages.\n"
     ]
    },
    {
     "name": "stderr",
     "output_type": "stream",
     "text": [
      " 34%|██████████████▌                            | 17/50 [00:03<00:06,  5.09it/s]\n"
     ]
    },
    {
     "name": "stdout",
     "output_type": "stream",
     "text": [
      "page 18 does not exist.\n",
      "Done with sub-category: australia-7; Total of 339 items found\n",
      "Now doing sub-category: usa-3\n",
      "!!! CANNOT access number of items; likely layer 2 sub category, will extract max of 50 pages.\n"
     ]
    },
    {
     "name": "stderr",
     "output_type": "stream",
     "text": [
      " 36%|███████████████▍                           | 18/50 [00:14<00:25,  1.25it/s]"
     ]
    },
    {
     "name": "stdout",
     "output_type": "stream",
     "text": [
      "page 19 does not exist.\n",
      "Done with sub-category: usa-3; Total of 350 items found\n",
      "Now doing sub-category: china-1\n"
     ]
    },
    {
     "name": "stderr",
     "output_type": "stream",
     "text": [
      "\n"
     ]
    },
    {
     "name": "stdout",
     "output_type": "stream",
     "text": [
      "!!! CANNOT access number of items; likely layer 2 sub category, will extract max of 50 pages.\n"
     ]
    },
    {
     "name": "stderr",
     "output_type": "stream",
     "text": [
      "100%|███████████████████████████████████████████| 50/50 [00:43<00:00,  1.16it/s]\n"
     ]
    },
    {
     "name": "stdout",
     "output_type": "stream",
     "text": [
      "Done with sub-category: china-1; Total of 1000 items found\n",
      "Now doing sub-category: uk\n",
      "!!! CANNOT access number of items; likely layer 2 sub category, will extract max of 50 pages.\n"
     ]
    },
    {
     "name": "stderr",
     "output_type": "stream",
     "text": [
      "  6%|██▋                                         | 3/50 [00:01<00:21,  2.16it/s]"
     ]
    },
    {
     "name": "stdout",
     "output_type": "stream",
     "text": [
      "page 4 does not exist.\n",
      "Done with sub-category: uk; Total of 41 items found\n",
      "Now doing sub-category: malaysia\n"
     ]
    },
    {
     "name": "stderr",
     "output_type": "stream",
     "text": [
      "\n"
     ]
    },
    {
     "name": "stdout",
     "output_type": "stream",
     "text": [
      "!!! CANNOT access number of items; likely layer 2 sub category, will extract max of 50 pages.\n"
     ]
    },
    {
     "name": "stderr",
     "output_type": "stream",
     "text": [
      " 14%|██████▏                                     | 7/50 [00:19<01:56,  2.72s/it]"
     ]
    },
    {
     "name": "stdout",
     "output_type": "stream",
     "text": [
      "page 8 does not exist.\n",
      "Done with sub-category: malaysia; Total of 128 items found\n",
      "Now doing sub-category: festive-snacks\n"
     ]
    },
    {
     "name": "stderr",
     "output_type": "stream",
     "text": [
      "\n"
     ]
    },
    {
     "name": "stdout",
     "output_type": "stream",
     "text": [
      "294 found; 15 pages to go through...\n"
     ]
    },
    {
     "name": "stderr",
     "output_type": "stream",
     "text": [
      "  0%|                                                    | 0/15 [00:00<?, ?it/s]"
     ]
    },
    {
     "name": "stdout",
     "output_type": "stream",
     "text": [
      "page 1 does not exist.\n",
      "Done with sub-category: festive-snacks; Total of 0 items found\n",
      "Now doing sub-category: gifts-and-hampers\n"
     ]
    },
    {
     "name": "stderr",
     "output_type": "stream",
     "text": [
      "\n"
     ]
    },
    {
     "name": "stdout",
     "output_type": "stream",
     "text": [
      "116 found; 6 pages to go through...\n"
     ]
    },
    {
     "name": "stderr",
     "output_type": "stream",
     "text": [
      "  0%|                                                     | 0/6 [00:00<?, ?it/s]"
     ]
    },
    {
     "name": "stdout",
     "output_type": "stream",
     "text": [
      "page 1 does not exist.\n",
      "Done with sub-category: gifts-and-hampers; Total of 0 items found\n",
      "Now doing sub-category: reunion-feast-essentials\n"
     ]
    },
    {
     "name": "stderr",
     "output_type": "stream",
     "text": [
      "\n"
     ]
    },
    {
     "name": "stdout",
     "output_type": "stream",
     "text": [
      "!!! CANNOT access number of items; likely layer 2 sub category, will extract max of 50 pages.\n"
     ]
    },
    {
     "name": "stderr",
     "output_type": "stream",
     "text": [
      "100%|███████████████████████████████████████████| 50/50 [00:49<00:00,  1.02it/s]\n"
     ]
    },
    {
     "name": "stdout",
     "output_type": "stream",
     "text": [
      "Done with sub-category: reunion-feast-essentials; Total of 1000 items found\n",
      "Now doing sub-category: mandarin-oranges-1\n",
      "31 found; 2 pages to go through...\n"
     ]
    },
    {
     "name": "stderr",
     "output_type": "stream",
     "text": [
      "  0%|                                                     | 0/2 [00:00<?, ?it/s]"
     ]
    },
    {
     "name": "stdout",
     "output_type": "stream",
     "text": [
      "page 1 does not exist.\n",
      "Done with sub-category: mandarin-oranges-1; Total of 0 items found\n",
      "Now doing sub-category: plants-and-decorations\n"
     ]
    },
    {
     "name": "stderr",
     "output_type": "stream",
     "text": [
      "\n"
     ]
    },
    {
     "name": "stdout",
     "output_type": "stream",
     "text": [
      "176 found; 9 pages to go through...\n"
     ]
    },
    {
     "name": "stderr",
     "output_type": "stream",
     "text": [
      "  0%|                                                     | 0/9 [00:00<?, ?it/s]"
     ]
    },
    {
     "name": "stdout",
     "output_type": "stream",
     "text": [
      "page 1 does not exist.\n",
      "Done with sub-category: plants-and-decorations; Total of 0 items found\n",
      "Now doing sub-category: infant-formula--1\n"
     ]
    },
    {
     "name": "stderr",
     "output_type": "stream",
     "text": [
      "\n"
     ]
    },
    {
     "name": "stdout",
     "output_type": "stream",
     "text": [
      "53 found; 3 pages to go through...\n"
     ]
    },
    {
     "name": "stderr",
     "output_type": "stream",
     "text": [
      "  0%|                                                     | 0/3 [00:00<?, ?it/s]"
     ]
    },
    {
     "name": "stdout",
     "output_type": "stream",
     "text": [
      "page 1 does not exist.\n",
      "Done with sub-category: infant-formula--1; Total of 0 items found\n",
      "Now doing sub-category: milk-powder\n"
     ]
    },
    {
     "name": "stderr",
     "output_type": "stream",
     "text": [
      "\n"
     ]
    },
    {
     "name": "stdout",
     "output_type": "stream",
     "text": [
      "!!! CANNOT access number of items; likely layer 2 sub category, will extract max of 50 pages.\n"
     ]
    },
    {
     "name": "stderr",
     "output_type": "stream",
     "text": [
      "  4%|█▊                                          | 2/50 [00:01<00:47,  1.02it/s]"
     ]
    },
    {
     "name": "stdout",
     "output_type": "stream",
     "text": [
      "page 3 does not exist.\n",
      "Done with sub-category: milk-powder; Total of 28 items found\n",
      "Now doing sub-category: food\n"
     ]
    },
    {
     "name": "stderr",
     "output_type": "stream",
     "text": [
      "\n"
     ]
    },
    {
     "name": "stdout",
     "output_type": "stream",
     "text": [
      "!!! CANNOT access number of items; likely layer 2 sub category, will extract max of 50 pages.\n"
     ]
    },
    {
     "name": "stderr",
     "output_type": "stream",
     "text": [
      " 52%|██████████████████████▎                    | 26/50 [00:18<00:16,  1.44it/s]"
     ]
    },
    {
     "name": "stdout",
     "output_type": "stream",
     "text": [
      "page 27 does not exist.\n",
      "Done with sub-category: food; Total of 514 items found\n",
      "Now doing sub-category: nursing-feeding-1\n"
     ]
    },
    {
     "name": "stderr",
     "output_type": "stream",
     "text": [
      "\n"
     ]
    },
    {
     "name": "stdout",
     "output_type": "stream",
     "text": [
      "!!! CANNOT access number of items; likely layer 2 sub category, will extract max of 50 pages.\n"
     ]
    },
    {
     "name": "stderr",
     "output_type": "stream",
     "text": [
      "100%|███████████████████████████████████████████| 50/50 [00:46<00:00,  1.08it/s]\n"
     ]
    },
    {
     "name": "stdout",
     "output_type": "stream",
     "text": [
      "Done with sub-category: nursing-feeding-1; Total of 1000 items found\n",
      "Now doing sub-category: baby-toiletries---health\n",
      "!!! CANNOT access number of items; likely layer 2 sub category, will extract max of 50 pages.\n"
     ]
    },
    {
     "name": "stderr",
     "output_type": "stream",
     "text": [
      "100%|███████████████████████████████████████████| 50/50 [01:07<00:00,  1.35s/it]\n"
     ]
    },
    {
     "name": "stdout",
     "output_type": "stream",
     "text": [
      "Done with sub-category: baby-toiletries---health; Total of 1000 items found\n",
      "Now doing sub-category: baby-laundry---cleaning\n",
      "!!! CANNOT access number of items; likely layer 2 sub category, will extract max of 50 pages.\n"
     ]
    },
    {
     "name": "stderr",
     "output_type": "stream",
     "text": [
      " 16%|███████                                     | 8/50 [00:07<00:39,  1.07it/s]"
     ]
    },
    {
     "name": "stdout",
     "output_type": "stream",
     "text": [
      "page 9 does not exist.\n",
      "Done with sub-category: baby-laundry---cleaning; Total of 145 items found\n",
      "Now doing sub-category: toys---play\n"
     ]
    },
    {
     "name": "stderr",
     "output_type": "stream",
     "text": [
      "\n"
     ]
    },
    {
     "name": "stdout",
     "output_type": "stream",
     "text": [
      "!!! CANNOT access number of items; likely layer 2 sub category, will extract max of 50 pages.\n"
     ]
    },
    {
     "name": "stderr",
     "output_type": "stream",
     "text": [
      " 56%|████████████████████████                   | 28/50 [00:25<00:20,  1.10it/s]"
     ]
    },
    {
     "name": "stdout",
     "output_type": "stream",
     "text": [
      "page 29 does not exist.\n",
      "Done with sub-category: toys---play; Total of 545 items found\n",
      "Now doing sub-category: diapers-3074457345616687146-1\n"
     ]
    },
    {
     "name": "stderr",
     "output_type": "stream",
     "text": [
      "\n"
     ]
    },
    {
     "name": "stdout",
     "output_type": "stream",
     "text": [
      "!!! CANNOT access number of items; likely layer 2 sub category, will extract max of 50 pages.\n"
     ]
    },
    {
     "name": "stderr",
     "output_type": "stream",
     "text": [
      "  0%|                                                    | 0/50 [00:00<?, ?it/s]"
     ]
    },
    {
     "name": "stdout",
     "output_type": "stream",
     "text": [
      "page 1 does not exist.\n",
      "Done with sub-category: diapers-3074457345616687146-1; Total of 0 items found\n",
      "Now doing sub-category: baby-furniture\n"
     ]
    },
    {
     "name": "stderr",
     "output_type": "stream",
     "text": [
      "\n"
     ]
    },
    {
     "name": "stdout",
     "output_type": "stream",
     "text": [
      "!!! CANNOT access number of items; likely layer 2 sub category, will extract max of 50 pages.\n"
     ]
    },
    {
     "name": "stderr",
     "output_type": "stream",
     "text": [
      " 38%|████████████████▎                          | 19/50 [00:16<00:26,  1.16it/s]\n"
     ]
    },
    {
     "name": "stdout",
     "output_type": "stream",
     "text": [
      "page 20 does not exist.\n",
      "Done with sub-category: baby-furniture; Total of 377 items found\n",
      "Now doing sub-category: baby-clothing---accessories\n",
      "!!! CANNOT access number of items; likely layer 2 sub category, will extract max of 50 pages.\n"
     ]
    },
    {
     "name": "stderr",
     "output_type": "stream",
     "text": [
      " 12%|█████▎                                      | 6/50 [00:03<00:26,  1.64it/s]\n"
     ]
    },
    {
     "name": "stdout",
     "output_type": "stream",
     "text": [
      "page 7 does not exist.\n",
      "Done with sub-category: baby-clothing---accessories; Total of 101 items found\n",
      "Now doing sub-category: maternity-for-moms\n",
      "!!! CANNOT access number of items; likely layer 2 sub category, will extract max of 50 pages.\n"
     ]
    },
    {
     "name": "stderr",
     "output_type": "stream",
     "text": [
      "  4%|█▊                                          | 2/50 [00:01<00:25,  1.89it/s]\n"
     ]
    },
    {
     "name": "stdout",
     "output_type": "stream",
     "text": [
      "page 3 does not exist.\n",
      "Done with sub-category: maternity-for-moms; Total of 37 items found\n",
      "Now doing sub-category: baby-gear\n",
      "!!! CANNOT access number of items; likely layer 2 sub category, will extract max of 50 pages.\n"
     ]
    },
    {
     "name": "stderr",
     "output_type": "stream",
     "text": [
      " 18%|███████▉                                    | 9/50 [00:09<00:42,  1.03s/it]"
     ]
    },
    {
     "name": "stdout",
     "output_type": "stream",
     "text": [
      "page 10 does not exist.\n",
      "Done with sub-category: baby-gear; Total of 178 items found\n",
      "Now doing sub-category: baby-safety--1\n"
     ]
    },
    {
     "name": "stderr",
     "output_type": "stream",
     "text": [
      "\n"
     ]
    },
    {
     "name": "stdout",
     "output_type": "stream",
     "text": [
      "!!! CANNOT access number of items; likely layer 2 sub category, will extract max of 50 pages.\n"
     ]
    },
    {
     "name": "stderr",
     "output_type": "stream",
     "text": [
      " 14%|██████▏                                     | 7/50 [00:05<00:34,  1.23it/s]"
     ]
    },
    {
     "name": "stdout",
     "output_type": "stream",
     "text": [
      "page 8 does not exist.\n",
      "Done with sub-category: baby-safety--1; Total of 124 items found\n",
      "Now doing sub-category: breads--1\n"
     ]
    },
    {
     "name": "stderr",
     "output_type": "stream",
     "text": [
      "\n"
     ]
    },
    {
     "name": "stdout",
     "output_type": "stream",
     "text": [
      "319 found; 16 pages to go through...\n"
     ]
    },
    {
     "name": "stderr",
     "output_type": "stream",
     "text": [
      "  0%|                                                    | 0/16 [00:00<?, ?it/s]"
     ]
    },
    {
     "name": "stdout",
     "output_type": "stream",
     "text": [
      "page 1 does not exist.\n",
      "Done with sub-category: breads--1; Total of 0 items found\n",
      "Now doing sub-category: hair-care-2\n"
     ]
    },
    {
     "name": "stderr",
     "output_type": "stream",
     "text": [
      "\n"
     ]
    },
    {
     "name": "stdout",
     "output_type": "stream",
     "text": [
      "!!! CANNOT access number of items; likely layer 2 sub category, will extract max of 50 pages.\n"
     ]
    },
    {
     "name": "stderr",
     "output_type": "stream",
     "text": [
      "100%|███████████████████████████████████████████| 50/50 [00:46<00:00,  1.07it/s]\n"
     ]
    },
    {
     "name": "stdout",
     "output_type": "stream",
     "text": [
      "Done with sub-category: hair-care-2; Total of 1000 items found\n",
      "Now doing sub-category: bath--body\n",
      "!!! CANNOT access number of items; likely layer 2 sub category, will extract max of 50 pages.\n"
     ]
    },
    {
     "name": "stderr",
     "output_type": "stream",
     "text": [
      "100%|███████████████████████████████████████████| 50/50 [00:51<00:00,  1.02s/it]\n"
     ]
    },
    {
     "name": "stdout",
     "output_type": "stream",
     "text": [
      "Done with sub-category: bath--body; Total of 1000 items found\n",
      "Now doing sub-category: facial-care\n",
      "!!! CANNOT access number of items; likely layer 2 sub category, will extract max of 50 pages.\n"
     ]
    },
    {
     "name": "stderr",
     "output_type": "stream",
     "text": [
      "100%|███████████████████████████████████████████| 50/50 [00:44<00:00,  1.11it/s]\n"
     ]
    },
    {
     "name": "stdout",
     "output_type": "stream",
     "text": [
      "Done with sub-category: facial-care; Total of 1000 items found\n",
      "Now doing sub-category: oral-care-1\n",
      "!!! CANNOT access number of items; likely layer 2 sub category, will extract max of 50 pages.\n"
     ]
    },
    {
     "name": "stderr",
     "output_type": "stream",
     "text": [
      " 80%|██████████████████████████████████▍        | 40/50 [00:37<00:09,  1.07it/s]"
     ]
    },
    {
     "name": "stdout",
     "output_type": "stream",
     "text": [
      "page 41 does not exist.\n",
      "Done with sub-category: oral-care-1; Total of 788 items found\n",
      "Now doing sub-category: hand---foot-care\n"
     ]
    },
    {
     "name": "stderr",
     "output_type": "stream",
     "text": [
      "\n"
     ]
    },
    {
     "name": "stdout",
     "output_type": "stream",
     "text": [
      "!!! CANNOT access number of items; likely layer 2 sub category, will extract max of 50 pages.\n"
     ]
    },
    {
     "name": "stderr",
     "output_type": "stream",
     "text": [
      " 46%|███████████████████▊                       | 23/50 [00:18<00:21,  1.25it/s]"
     ]
    },
    {
     "name": "stdout",
     "output_type": "stream",
     "text": [
      "page 24 does not exist.\n",
      "Done with sub-category: hand---foot-care; Total of 445 items found\n",
      "Now doing sub-category: feminine-care\n"
     ]
    },
    {
     "name": "stderr",
     "output_type": "stream",
     "text": [
      "\n"
     ]
    },
    {
     "name": "stdout",
     "output_type": "stream",
     "text": [
      "!!! CANNOT access number of items; likely layer 2 sub category, will extract max of 50 pages.\n"
     ]
    },
    {
     "name": "stderr",
     "output_type": "stream",
     "text": [
      " 36%|███████████████▍                           | 18/50 [00:12<00:23,  1.39it/s]\n"
     ]
    },
    {
     "name": "stdout",
     "output_type": "stream",
     "text": [
      "page 19 does not exist.\n",
      "Done with sub-category: feminine-care; Total of 343 items found\n",
      "Now doing sub-category: hair-removal-2\n",
      "!!! CANNOT access number of items; likely layer 2 sub category, will extract max of 50 pages.\n"
     ]
    },
    {
     "name": "stderr",
     "output_type": "stream",
     "text": [
      " 18%|███████▉                                    | 9/50 [00:06<00:27,  1.47it/s]"
     ]
    },
    {
     "name": "stdout",
     "output_type": "stream",
     "text": [
      "page 10 does not exist.\n",
      "Done with sub-category: hair-removal-2; Total of 175 items found\n",
      "Now doing sub-category: nail-care\n"
     ]
    },
    {
     "name": "stderr",
     "output_type": "stream",
     "text": [
      "\n"
     ]
    },
    {
     "name": "stdout",
     "output_type": "stream",
     "text": [
      "!!! CANNOT access number of items; likely layer 2 sub category, will extract max of 50 pages.\n"
     ]
    },
    {
     "name": "stderr",
     "output_type": "stream",
     "text": [
      " 28%|████████████                               | 14/50 [02:21<06:03, 10.09s/it]"
     ]
    },
    {
     "name": "stdout",
     "output_type": "stream",
     "text": [
      "page 15 does not exist.\n",
      "Done with sub-category: nail-care; Total of 276 items found\n",
      "Now doing sub-category: makeup\n"
     ]
    },
    {
     "name": "stderr",
     "output_type": "stream",
     "text": [
      "\n"
     ]
    },
    {
     "name": "stdout",
     "output_type": "stream",
     "text": [
      "!!! CANNOT access number of items; likely layer 2 sub category, will extract max of 50 pages.\n"
     ]
    },
    {
     "name": "stderr",
     "output_type": "stream",
     "text": [
      " 42%|██████████████████                         | 21/50 [00:33<00:46,  1.60s/it]"
     ]
    },
    {
     "name": "stdout",
     "output_type": "stream",
     "text": [
      "page 22 does not exist.\n",
      "Done with sub-category: makeup; Total of 419 items found\n",
      "Now doing sub-category: beauty-appliances\n"
     ]
    },
    {
     "name": "stderr",
     "output_type": "stream",
     "text": [
      "\n"
     ]
    },
    {
     "name": "stdout",
     "output_type": "stream",
     "text": [
      "!!! CANNOT access number of items; likely layer 2 sub category, will extract max of 50 pages.\n"
     ]
    },
    {
     "name": "stderr",
     "output_type": "stream",
     "text": [
      "  4%|█▊                                          | 2/50 [00:01<00:44,  1.08it/s]"
     ]
    },
    {
     "name": "stdout",
     "output_type": "stream",
     "text": [
      "page 3 does not exist.\n",
      "Done with sub-category: beauty-appliances; Total of 33 items found\n",
      "Now doing sub-category: eggs\n"
     ]
    },
    {
     "name": "stderr",
     "output_type": "stream",
     "text": [
      "\n"
     ]
    },
    {
     "name": "stdout",
     "output_type": "stream",
     "text": [
      "!!! CANNOT access number of items; likely layer 2 sub category, will extract max of 50 pages.\n"
     ]
    },
    {
     "name": "stderr",
     "output_type": "stream",
     "text": [
      "  6%|██▋                                         | 3/50 [00:02<00:40,  1.16it/s]\n"
     ]
    },
    {
     "name": "stdout",
     "output_type": "stream",
     "text": [
      "page 4 does not exist.\n",
      "Done with sub-category: eggs; Total of 49 items found\n",
      "Now doing sub-category: fresh-milk--1\n",
      "!!! CANNOT access number of items; likely layer 2 sub category, will extract max of 50 pages.\n"
     ]
    },
    {
     "name": "stderr",
     "output_type": "stream",
     "text": [
      " 12%|█████▎                                      | 6/50 [00:03<00:26,  1.68it/s]"
     ]
    },
    {
     "name": "stdout",
     "output_type": "stream",
     "text": [
      "page 7 does not exist.\n",
      "Done with sub-category: fresh-milk--1; Total of 106 items found\n",
      "Now doing sub-category: uht-milk--1\n"
     ]
    },
    {
     "name": "stderr",
     "output_type": "stream",
     "text": [
      "\n"
     ]
    },
    {
     "name": "stdout",
     "output_type": "stream",
     "text": [
      "!!! CANNOT access number of items; likely layer 2 sub category, will extract max of 50 pages.\n"
     ]
    },
    {
     "name": "stderr",
     "output_type": "stream",
     "text": [
      " 40%|█████████████████▏                         | 20/50 [00:14<00:21,  1.38it/s]"
     ]
    },
    {
     "name": "stdout",
     "output_type": "stream",
     "text": [
      "page 21 does not exist.\n",
      "Done with sub-category: uht-milk--1; Total of 400 items found\n",
      "Now doing sub-category: cheese\n"
     ]
    },
    {
     "name": "stderr",
     "output_type": "stream",
     "text": [
      "\n"
     ]
    },
    {
     "name": "stdout",
     "output_type": "stream",
     "text": [
      "!!! CANNOT access number of items; likely layer 2 sub category, will extract max of 50 pages.\n"
     ]
    },
    {
     "name": "stderr",
     "output_type": "stream",
     "text": [
      " 14%|██████▏                                     | 7/50 [00:07<00:44,  1.03s/it]"
     ]
    },
    {
     "name": "stdout",
     "output_type": "stream",
     "text": [
      "page 8 does not exist.\n",
      "Done with sub-category: cheese; Total of 132 items found\n",
      "Now doing sub-category: butter--margarine---spreads\n"
     ]
    },
    {
     "name": "stderr",
     "output_type": "stream",
     "text": [
      "\n"
     ]
    },
    {
     "name": "stdout",
     "output_type": "stream",
     "text": [
      "61 found; 4 pages to go through...\n"
     ]
    },
    {
     "name": "stderr",
     "output_type": "stream",
     "text": [
      "  0%|                                                     | 0/4 [00:00<?, ?it/s]"
     ]
    },
    {
     "name": "stdout",
     "output_type": "stream",
     "text": [
      "page 1 does not exist.\n",
      "Done with sub-category: butter--margarine---spreads; Total of 0 items found\n",
      "Now doing sub-category: cream\n"
     ]
    },
    {
     "name": "stderr",
     "output_type": "stream",
     "text": [
      "\n"
     ]
    },
    {
     "name": "stdout",
     "output_type": "stream",
     "text": [
      "20 found; 1 pages to go through...\n"
     ]
    },
    {
     "name": "stderr",
     "output_type": "stream",
     "text": [
      "  0%|                                                     | 0/1 [00:00<?, ?it/s]"
     ]
    },
    {
     "name": "stdout",
     "output_type": "stream",
     "text": [
      "page 1 does not exist.\n",
      "Done with sub-category: cream; Total of 0 items found\n",
      "Now doing sub-category: yoghurt\n"
     ]
    },
    {
     "name": "stderr",
     "output_type": "stream",
     "text": [
      "\n"
     ]
    },
    {
     "name": "stdout",
     "output_type": "stream",
     "text": [
      "!!! CANNOT access number of items; likely layer 2 sub category, will extract max of 50 pages.\n"
     ]
    },
    {
     "name": "stderr",
     "output_type": "stream",
     "text": [
      " 12%|█████▎                                      | 6/50 [00:05<00:41,  1.07it/s]"
     ]
    },
    {
     "name": "stdout",
     "output_type": "stream",
     "text": [
      "page 7 does not exist.\n",
      "Done with sub-category: yoghurt; Total of 101 items found\n",
      "Now doing sub-category: delicatessen\n"
     ]
    },
    {
     "name": "stderr",
     "output_type": "stream",
     "text": [
      "\n"
     ]
    },
    {
     "name": "stdout",
     "output_type": "stream",
     "text": [
      "177 found; 9 pages to go through...\n"
     ]
    },
    {
     "name": "stderr",
     "output_type": "stream",
     "text": [
      "  0%|                                                     | 0/9 [00:00<?, ?it/s]"
     ]
    },
    {
     "name": "stdout",
     "output_type": "stream",
     "text": [
      "page 1 does not exist.\n",
      "Done with sub-category: delicatessen; Total of 0 items found\n",
      "Now doing sub-category: chilled-food\n"
     ]
    },
    {
     "name": "stderr",
     "output_type": "stream",
     "text": [
      "\n"
     ]
    },
    {
     "name": "stdout",
     "output_type": "stream",
     "text": [
      "!!! CANNOT access number of items; likely layer 2 sub category, will extract max of 50 pages.\n"
     ]
    },
    {
     "name": "stderr",
     "output_type": "stream",
     "text": [
      " 22%|█████████▍                                 | 11/50 [00:08<00:29,  1.31it/s]\n"
     ]
    },
    {
     "name": "stdout",
     "output_type": "stream",
     "text": [
      "page 12 does not exist.\n",
      "Done with sub-category: chilled-food; Total of 212 items found\n",
      "Now doing sub-category: chilled-beverages\n",
      "!!! CANNOT access number of items; likely layer 2 sub category, will extract max of 50 pages.\n"
     ]
    },
    {
     "name": "stderr",
     "output_type": "stream",
     "text": [
      "  8%|███▌                                        | 4/50 [00:02<00:33,  1.39it/s]"
     ]
    },
    {
     "name": "stdout",
     "output_type": "stream",
     "text": [
      "page 5 does not exist.\n",
      "Done with sub-category: chilled-beverages; Total of 63 items found\n",
      "Now doing sub-category: chilled-dessert\n"
     ]
    },
    {
     "name": "stderr",
     "output_type": "stream",
     "text": [
      "\n"
     ]
    },
    {
     "name": "stdout",
     "output_type": "stream",
     "text": [
      "30 found; 2 pages to go through...\n"
     ]
    },
    {
     "name": "stderr",
     "output_type": "stream",
     "text": [
      "  0%|                                                     | 0/2 [00:00<?, ?it/s]"
     ]
    },
    {
     "name": "stdout",
     "output_type": "stream",
     "text": [
      "page 1 does not exist.\n",
      "Done with sub-category: chilled-dessert; Total of 0 items found\n",
      "Now doing sub-category: coffee\n"
     ]
    },
    {
     "name": "stderr",
     "output_type": "stream",
     "text": [
      "\n"
     ]
    },
    {
     "name": "stdout",
     "output_type": "stream",
     "text": [
      "!!! CANNOT access number of items; likely layer 2 sub category, will extract max of 50 pages.\n"
     ]
    },
    {
     "name": "stderr",
     "output_type": "stream",
     "text": [
      " 86%|████████████████████████████████████▉      | 43/50 [00:37<00:06,  1.14it/s]"
     ]
    },
    {
     "name": "stdout",
     "output_type": "stream",
     "text": [
      "page 44 does not exist.\n",
      "Done with sub-category: coffee; Total of 854 items found\n",
      "Now doing sub-category: tea\n"
     ]
    },
    {
     "name": "stderr",
     "output_type": "stream",
     "text": [
      "\n"
     ]
    },
    {
     "name": "stdout",
     "output_type": "stream",
     "text": [
      "!!! CANNOT access number of items; likely layer 2 sub category, will extract max of 50 pages.\n"
     ]
    },
    {
     "name": "stderr",
     "output_type": "stream",
     "text": [
      "100%|███████████████████████████████████████████| 50/50 [00:53<00:00,  1.08s/it]\n"
     ]
    },
    {
     "name": "stdout",
     "output_type": "stream",
     "text": [
      "Done with sub-category: tea; Total of 1000 items found\n",
      "Now doing sub-category: juices--1\n",
      "!!! CANNOT access number of items; likely layer 2 sub category, will extract max of 50 pages.\n"
     ]
    },
    {
     "name": "stderr",
     "output_type": "stream",
     "text": [
      " 32%|█████████████▊                             | 16/50 [00:10<00:23,  1.46it/s]"
     ]
    },
    {
     "name": "stdout",
     "output_type": "stream",
     "text": [
      "page 17 does not exist.\n",
      "Done with sub-category: juices--1; Total of 301 items found\n",
      "Now doing sub-category: beverages\n"
     ]
    },
    {
     "name": "stderr",
     "output_type": "stream",
     "text": [
      "\n"
     ]
    },
    {
     "name": "stdout",
     "output_type": "stream",
     "text": [
      "!!! CANNOT access number of items; likely layer 2 sub category, will extract max of 50 pages.\n"
     ]
    },
    {
     "name": "stderr",
     "output_type": "stream",
     "text": [
      "100%|███████████████████████████████████████████| 50/50 [00:32<00:00,  1.53it/s]\n"
     ]
    },
    {
     "name": "stdout",
     "output_type": "stream",
     "text": [
      "Done with sub-category: beverages; Total of 1000 items found\n",
      "Now doing sub-category: uht-milk--1\n",
      "!!! CANNOT access number of items; likely layer 2 sub category, will extract max of 50 pages.\n"
     ]
    },
    {
     "name": "stderr",
     "output_type": "stream",
     "text": [
      " 40%|█████████████████▏                         | 20/50 [00:08<00:12,  2.47it/s]\n"
     ]
    },
    {
     "name": "stdout",
     "output_type": "stream",
     "text": [
      "page 21 does not exist.\n",
      "Done with sub-category: uht-milk--1; Total of 400 items found\n",
      "Now doing sub-category: water\n",
      "!!! CANNOT access number of items; likely layer 2 sub category, will extract max of 50 pages.\n"
     ]
    },
    {
     "name": "stderr",
     "output_type": "stream",
     "text": [
      " 28%|████████████                               | 14/50 [00:11<00:28,  1.26it/s]"
     ]
    },
    {
     "name": "stdout",
     "output_type": "stream",
     "text": [
      "page 15 does not exist.\n",
      "Done with sub-category: water; Total of 273 items found\n",
      "Now doing sub-category: drink-mixers\n"
     ]
    },
    {
     "name": "stderr",
     "output_type": "stream",
     "text": [
      "\n"
     ]
    },
    {
     "name": "stdout",
     "output_type": "stream",
     "text": [
      "28 found; 2 pages to go through...\n"
     ]
    },
    {
     "name": "stderr",
     "output_type": "stream",
     "text": [
      "  0%|                                                     | 0/2 [00:00<?, ?it/s]"
     ]
    },
    {
     "name": "stdout",
     "output_type": "stream",
     "text": [
      "page 1 does not exist.\n",
      "Done with sub-category: drink-mixers; Total of 0 items found\n",
      "Now doing sub-category: beer\n"
     ]
    },
    {
     "name": "stderr",
     "output_type": "stream",
     "text": [
      "\n"
     ]
    },
    {
     "name": "stdout",
     "output_type": "stream",
     "text": [
      "!!! CANNOT access number of items; likely layer 2 sub category, will extract max of 50 pages.\n"
     ]
    },
    {
     "name": "stderr",
     "output_type": "stream",
     "text": [
      " 54%|███████████████████████▏                   | 27/50 [00:17<00:14,  1.56it/s]\n"
     ]
    },
    {
     "name": "stdout",
     "output_type": "stream",
     "text": [
      "page 28 does not exist.\n",
      "Done with sub-category: beer; Total of 531 items found\n",
      "Now doing sub-category: wine-12\n",
      "!!! CANNOT access number of items; likely layer 2 sub category, will extract max of 50 pages.\n"
     ]
    },
    {
     "name": "stderr",
     "output_type": "stream",
     "text": [
      "100%|███████████████████████████████████████████| 50/50 [00:38<00:00,  1.30it/s]\n"
     ]
    },
    {
     "name": "stdout",
     "output_type": "stream",
     "text": [
      "Done with sub-category: wine-12; Total of 1000 items found\n",
      "Now doing sub-category: champagne--sparkling-wine-1\n",
      "!!! CANNOT access number of items; likely layer 2 sub category, will extract max of 50 pages.\n"
     ]
    },
    {
     "name": "stderr",
     "output_type": "stream",
     "text": [
      " 16%|███████                                     | 8/50 [00:08<00:44,  1.06s/it]"
     ]
    },
    {
     "name": "stdout",
     "output_type": "stream",
     "text": [
      "page 9 does not exist.\n",
      "Done with sub-category: champagne--sparkling-wine-1; Total of 145 items found\n",
      "Now doing sub-category: spirits\n"
     ]
    },
    {
     "name": "stderr",
     "output_type": "stream",
     "text": [
      "\n"
     ]
    },
    {
     "name": "stdout",
     "output_type": "stream",
     "text": [
      "!!! CANNOT access number of items; likely layer 2 sub category, will extract max of 50 pages.\n"
     ]
    },
    {
     "name": "stderr",
     "output_type": "stream",
     "text": [
      "  6%|██▋                                         | 3/50 [00:10<03:32,  4.52s/it]"
     ]
    },
    {
     "name": "stdout",
     "output_type": "stream",
     "text": [
      "error at getting json at 3\n"
     ]
    },
    {
     "name": "stderr",
     "output_type": "stream",
     "text": [
      " 40%|█████████████████▏                         | 20/50 [00:40<01:00,  2.02s/it]"
     ]
    },
    {
     "name": "stdout",
     "output_type": "stream",
     "text": [
      "page 21 does not exist.\n",
      "Done with sub-category: spirits; Total of 371 items found\n",
      "Now doing sub-category: non-alcoholic\n"
     ]
    },
    {
     "name": "stderr",
     "output_type": "stream",
     "text": [
      "\n"
     ]
    },
    {
     "name": "stdout",
     "output_type": "stream",
     "text": [
      "!!! CANNOT access number of items; likely layer 2 sub category, will extract max of 50 pages.\n"
     ]
    },
    {
     "name": "stderr",
     "output_type": "stream",
     "text": [
      "  6%|██▋                                         | 3/50 [00:02<00:42,  1.10it/s]"
     ]
    },
    {
     "name": "stdout",
     "output_type": "stream",
     "text": [
      "page 4 does not exist.\n",
      "Done with sub-category: non-alcoholic; Total of 49 items found\n",
      "Now doing sub-category: drinking-accessories\n"
     ]
    },
    {
     "name": "stderr",
     "output_type": "stream",
     "text": [
      "\n"
     ]
    },
    {
     "name": "stdout",
     "output_type": "stream",
     "text": [
      "!!! CANNOT access number of items; likely layer 2 sub category, will extract max of 50 pages.\n"
     ]
    },
    {
     "name": "stderr",
     "output_type": "stream",
     "text": [
      " 22%|█████████▍                                 | 11/50 [00:09<00:32,  1.20it/s]"
     ]
    },
    {
     "name": "stdout",
     "output_type": "stream",
     "text": [
      "page 12 does not exist.\n",
      "Done with sub-category: drinking-accessories; Total of 208 items found\n",
      "Now doing sub-category: breakfast-1\n"
     ]
    },
    {
     "name": "stderr",
     "output_type": "stream",
     "text": [
      "\n"
     ]
    },
    {
     "name": "stdout",
     "output_type": "stream",
     "text": [
      "!!! CANNOT access number of items; likely layer 2 sub category, will extract max of 50 pages.\n"
     ]
    },
    {
     "name": "stderr",
     "output_type": "stream",
     "text": [
      " 62%|██████████████████████████▋                | 31/50 [00:24<00:15,  1.26it/s]"
     ]
    },
    {
     "name": "stdout",
     "output_type": "stream",
     "text": [
      "page 32 does not exist.\n",
      "Done with sub-category: breakfast-1; Total of 615 items found\n",
      "Now doing sub-category: ready-to-eat--1\n"
     ]
    },
    {
     "name": "stderr",
     "output_type": "stream",
     "text": [
      "\n"
     ]
    },
    {
     "name": "stdout",
     "output_type": "stream",
     "text": [
      "661 found; 34 pages to go through...\n"
     ]
    },
    {
     "name": "stderr",
     "output_type": "stream",
     "text": [
      "  0%|                                                    | 0/34 [00:00<?, ?it/s]"
     ]
    },
    {
     "name": "stdout",
     "output_type": "stream",
     "text": [
      "page 1 does not exist.\n",
      "Done with sub-category: ready-to-eat--1; Total of 0 items found\n",
      "Now doing sub-category: canned-food\n"
     ]
    },
    {
     "name": "stderr",
     "output_type": "stream",
     "text": [
      "\n"
     ]
    },
    {
     "name": "stdout",
     "output_type": "stream",
     "text": [
      "!!! CANNOT access number of items; likely layer 2 sub category, will extract max of 50 pages.\n"
     ]
    },
    {
     "name": "stderr",
     "output_type": "stream",
     "text": [
      " 82%|███████████████████████████████████▎       | 41/50 [00:35<00:07,  1.16it/s]"
     ]
    },
    {
     "name": "stdout",
     "output_type": "stream",
     "text": [
      "page 42 does not exist.\n",
      "Done with sub-category: canned-food; Total of 806 items found\n",
      "Now doing sub-category: jams,-spreads--honey\n"
     ]
    },
    {
     "name": "stderr",
     "output_type": "stream",
     "text": [
      "\n"
     ]
    },
    {
     "name": "stdout",
     "output_type": "stream",
     "text": [
      "!!! CANNOT access number of items; likely layer 2 sub category, will extract max of 50 pages.\n"
     ]
    },
    {
     "name": "stderr",
     "output_type": "stream",
     "text": [
      " 60%|█████████████████████████▊                 | 30/50 [00:25<00:17,  1.16it/s]\n"
     ]
    },
    {
     "name": "stdout",
     "output_type": "stream",
     "text": [
      "page 31 does not exist.\n",
      "Done with sub-category: jams,-spreads--honey; Total of 590 items found\n",
      "Now doing sub-category: ice-cream-6\n",
      "230 found; 12 pages to go through...\n"
     ]
    },
    {
     "name": "stderr",
     "output_type": "stream",
     "text": [
      "  0%|                                                    | 0/12 [00:00<?, ?it/s]"
     ]
    },
    {
     "name": "stdout",
     "output_type": "stream",
     "text": [
      "page 1 does not exist.\n",
      "Done with sub-category: ice-cream-6; Total of 0 items found\n",
      "Now doing sub-category: frozen-dessert\n"
     ]
    },
    {
     "name": "stderr",
     "output_type": "stream",
     "text": [
      "\n"
     ]
    },
    {
     "name": "stdout",
     "output_type": "stream",
     "text": [
      "!!! CANNOT access number of items; likely layer 2 sub category, will extract max of 50 pages.\n"
     ]
    },
    {
     "name": "stderr",
     "output_type": "stream",
     "text": [
      "  0%|                                                    | 0/50 [00:00<?, ?it/s]"
     ]
    },
    {
     "name": "stdout",
     "output_type": "stream",
     "text": [
      "page 1 does not exist.\n",
      "Done with sub-category: frozen-dessert; Total of 0 items found\n",
      "Now doing sub-category: frozen-food\n"
     ]
    },
    {
     "name": "stderr",
     "output_type": "stream",
     "text": [
      "\n"
     ]
    },
    {
     "name": "stdout",
     "output_type": "stream",
     "text": [
      "!!! CANNOT access number of items; likely layer 2 sub category, will extract max of 50 pages.\n"
     ]
    },
    {
     "name": "stderr",
     "output_type": "stream",
     "text": [
      "100%|███████████████████████████████████████████| 50/50 [00:33<00:00,  1.48it/s]\n"
     ]
    },
    {
     "name": "stdout",
     "output_type": "stream",
     "text": [
      "Done with sub-category: frozen-food; Total of 1000 items found\n",
      "Now doing sub-category: frozen-meat\n",
      "!!! CANNOT access number of items; likely layer 2 sub category, will extract max of 50 pages.\n"
     ]
    },
    {
     "name": "stderr",
     "output_type": "stream",
     "text": [
      " 68%|█████████████████████████████▏             | 34/50 [00:25<00:12,  1.33it/s]\n"
     ]
    },
    {
     "name": "stdout",
     "output_type": "stream",
     "text": [
      "page 35 does not exist.\n",
      "Done with sub-category: frozen-meat; Total of 669 items found\n",
      "Now doing sub-category: frozen-seafood\n",
      "!!! CANNOT access number of items; likely layer 2 sub category, will extract max of 50 pages.\n"
     ]
    },
    {
     "name": "stderr",
     "output_type": "stream",
     "text": [
      " 24%|██████████▎                                | 12/50 [00:07<00:24,  1.57it/s]\n"
     ]
    },
    {
     "name": "stdout",
     "output_type": "stream",
     "text": [
      "page 13 does not exist.\n",
      "Done with sub-category: frozen-seafood; Total of 238 items found\n",
      "Now doing sub-category: fruits\n",
      "!!! CANNOT access number of items; likely layer 2 sub category, will extract max of 50 pages.\n"
     ]
    },
    {
     "name": "stderr",
     "output_type": "stream",
     "text": [
      " 46%|███████████████████▊                       | 23/50 [00:18<00:21,  1.24it/s]"
     ]
    },
    {
     "name": "stdout",
     "output_type": "stream",
     "text": [
      "page 24 does not exist.\n",
      "Done with sub-category: fruits; Total of 445 items found\n",
      "Now doing sub-category: vegetables\n"
     ]
    },
    {
     "name": "stderr",
     "output_type": "stream",
     "text": [
      "\n"
     ]
    },
    {
     "name": "stdout",
     "output_type": "stream",
     "text": [
      "984 found; 50 pages to go through...\n"
     ]
    },
    {
     "name": "stderr",
     "output_type": "stream",
     "text": [
      "  0%|                                                    | 0/50 [00:00<?, ?it/s]"
     ]
    },
    {
     "name": "stdout",
     "output_type": "stream",
     "text": [
      "page 1 does not exist.\n",
      "Done with sub-category: vegetables; Total of 0 items found\n",
      "Now doing sub-category: vitamins--supplements\n"
     ]
    },
    {
     "name": "stderr",
     "output_type": "stream",
     "text": [
      "\n"
     ]
    },
    {
     "name": "stdout",
     "output_type": "stream",
     "text": [
      "!!! CANNOT access number of items; likely layer 2 sub category, will extract max of 50 pages.\n"
     ]
    },
    {
     "name": "stderr",
     "output_type": "stream",
     "text": [
      "100%|███████████████████████████████████████████| 50/50 [00:50<00:00,  1.00s/it]\n"
     ]
    },
    {
     "name": "stdout",
     "output_type": "stream",
     "text": [
      "Done with sub-category: vitamins--supplements; Total of 1000 items found\n",
      "Now doing sub-category: topical-medication\n",
      "!!! CANNOT access number of items; likely layer 2 sub category, will extract max of 50 pages.\n"
     ]
    },
    {
     "name": "stderr",
     "output_type": "stream",
     "text": [
      " 40%|█████████████████▏                         | 20/50 [00:17<00:25,  1.17it/s]"
     ]
    },
    {
     "name": "stdout",
     "output_type": "stream",
     "text": [
      "page 21 does not exist.\n",
      "Done with sub-category: topical-medication; Total of 385 items found\n",
      "Now doing sub-category: childrens-health--supplements\n"
     ]
    },
    {
     "name": "stderr",
     "output_type": "stream",
     "text": [
      "\n"
     ]
    },
    {
     "name": "stdout",
     "output_type": "stream",
     "text": [
      "187 found; 10 pages to go through...\n"
     ]
    },
    {
     "name": "stderr",
     "output_type": "stream",
     "text": [
      "  0%|                                                    | 0/10 [00:00<?, ?it/s]"
     ]
    },
    {
     "name": "stdout",
     "output_type": "stream",
     "text": [
      "page 1 does not exist.\n",
      "Done with sub-category: childrens-health--supplements; Total of 0 items found\n",
      "Now doing sub-category: oral-medication\n"
     ]
    },
    {
     "name": "stderr",
     "output_type": "stream",
     "text": [
      "\n"
     ]
    },
    {
     "name": "stdout",
     "output_type": "stream",
     "text": [
      "!!! CANNOT access number of items; likely layer 2 sub category, will extract max of 50 pages.\n"
     ]
    },
    {
     "name": "stderr",
     "output_type": "stream",
     "text": [
      " 16%|███████                                     | 8/50 [00:07<00:37,  1.11it/s]"
     ]
    },
    {
     "name": "stdout",
     "output_type": "stream",
     "text": [
      "page 9 does not exist.\n",
      "Done with sub-category: oral-medication; Total of 144 items found\n",
      "Now doing sub-category: sexual-health\n"
     ]
    },
    {
     "name": "stderr",
     "output_type": "stream",
     "text": [
      "\n"
     ]
    },
    {
     "name": "stdout",
     "output_type": "stream",
     "text": [
      "!!! CANNOT access number of items; likely layer 2 sub category, will extract max of 50 pages.\n"
     ]
    },
    {
     "name": "stderr",
     "output_type": "stream",
     "text": [
      "  6%|██▋                                         | 3/50 [00:02<00:46,  1.00it/s]"
     ]
    },
    {
     "name": "stdout",
     "output_type": "stream",
     "text": [
      "page 4 does not exist.\n",
      "Done with sub-category: sexual-health; Total of 43 items found\n",
      "Now doing sub-category: first-aid-1\n"
     ]
    },
    {
     "name": "stderr",
     "output_type": "stream",
     "text": [
      "\n"
     ]
    },
    {
     "name": "stdout",
     "output_type": "stream",
     "text": [
      "!!! CANNOT access number of items; likely layer 2 sub category, will extract max of 50 pages.\n"
     ]
    },
    {
     "name": "stderr",
     "output_type": "stream",
     "text": [
      " 40%|█████████████████▏                         | 20/50 [00:35<00:53,  1.78s/it]"
     ]
    },
    {
     "name": "stdout",
     "output_type": "stream",
     "text": [
      "page 21 does not exist.\n",
      "Done with sub-category: first-aid-1; Total of 393 items found\n",
      "Now doing sub-category: health-monitors--aids\n"
     ]
    },
    {
     "name": "stderr",
     "output_type": "stream",
     "text": [
      "\n"
     ]
    },
    {
     "name": "stdout",
     "output_type": "stream",
     "text": [
      "!!! CANNOT access number of items; likely layer 2 sub category, will extract max of 50 pages.\n"
     ]
    },
    {
     "name": "stderr",
     "output_type": "stream",
     "text": [
      " 18%|███████▉                                    | 9/50 [00:18<01:25,  2.09s/it]"
     ]
    },
    {
     "name": "stdout",
     "output_type": "stream",
     "text": [
      "page 10 does not exist.\n",
      "Done with sub-category: health-monitors--aids; Total of 177 items found\n",
      "Now doing sub-category: eldercare\n"
     ]
    },
    {
     "name": "stderr",
     "output_type": "stream",
     "text": [
      "\n"
     ]
    },
    {
     "name": "stdout",
     "output_type": "stream",
     "text": [
      "!!! CANNOT access number of items; likely layer 2 sub category, will extract max of 50 pages.\n"
     ]
    },
    {
     "name": "stderr",
     "output_type": "stream",
     "text": [
      "  6%|██▋                                         | 3/50 [01:59<31:04, 39.67s/it]\n"
     ]
    },
    {
     "name": "stdout",
     "output_type": "stream",
     "text": [
      "SOME ERROR OCCURED FOR sub-category eldercare; REDO\n",
      "('Connection aborted.', RemoteDisconnected('Remote end closed connection without response'))\n",
      "Now doing sub-category: housebrand-beer-wine-spirit\n",
      "!!! CANNOT access number of items; likely layer 2 sub category, will extract max of 50 pages.\n"
     ]
    },
    {
     "name": "stderr",
     "output_type": "stream",
     "text": [
      "  0%|                                                    | 0/50 [00:05<?, ?it/s]"
     ]
    },
    {
     "name": "stdout",
     "output_type": "stream",
     "text": [
      "page 1 does not exist.\n",
      "Done with sub-category: housebrand-beer-wine-spirit; Total of 0 items found\n",
      "Now doing sub-category: housebrand-baby-child-toys\n"
     ]
    },
    {
     "name": "stderr",
     "output_type": "stream",
     "text": [
      "\n"
     ]
    },
    {
     "name": "stdout",
     "output_type": "stream",
     "text": [
      "29 found; 2 pages to go through...\n"
     ]
    },
    {
     "name": "stderr",
     "output_type": "stream",
     "text": [
      "  0%|                                                     | 0/2 [00:01<?, ?it/s]"
     ]
    },
    {
     "name": "stdout",
     "output_type": "stream",
     "text": [
      "page 1 does not exist.\n",
      "Done with sub-category: housebrand-baby-child-toys; Total of 0 items found\n",
      "Now doing sub-category: housebrand-meat-seafood\n"
     ]
    },
    {
     "name": "stderr",
     "output_type": "stream",
     "text": [
      "\n"
     ]
    },
    {
     "name": "stdout",
     "output_type": "stream",
     "text": [
      "6 found; 1 pages to go through...\n"
     ]
    },
    {
     "name": "stderr",
     "output_type": "stream",
     "text": [
      "  0%|                                                     | 0/1 [00:00<?, ?it/s]"
     ]
    },
    {
     "name": "stdout",
     "output_type": "stream",
     "text": [
      "page 1 does not exist.\n",
      "Done with sub-category: housebrand-meat-seafood; Total of 0 items found\n",
      "Now doing sub-category: housebrand-dairy-chilled-eggs\n"
     ]
    },
    {
     "name": "stderr",
     "output_type": "stream",
     "text": [
      "\n"
     ]
    },
    {
     "name": "stdout",
     "output_type": "stream",
     "text": [
      "28 found; 2 pages to go through...\n"
     ]
    },
    {
     "name": "stderr",
     "output_type": "stream",
     "text": [
      "  0%|                                                     | 0/2 [00:03<?, ?it/s]"
     ]
    },
    {
     "name": "stdout",
     "output_type": "stream",
     "text": [
      "page 1 does not exist.\n",
      "Done with sub-category: housebrand-dairy-chilled-eggs; Total of 0 items found\n",
      "Now doing sub-category: housebrand-frozen\n"
     ]
    },
    {
     "name": "stderr",
     "output_type": "stream",
     "text": [
      "\n"
     ]
    },
    {
     "name": "stdout",
     "output_type": "stream",
     "text": [
      "!!! CANNOT access number of items; likely layer 2 sub category, will extract max of 50 pages.\n"
     ]
    },
    {
     "name": "stderr",
     "output_type": "stream",
     "text": [
      "  6%|██▋                                         | 3/50 [00:06<01:40,  2.14s/it]"
     ]
    },
    {
     "name": "stdout",
     "output_type": "stream",
     "text": [
      "page 4 does not exist.\n",
      "Done with sub-category: housebrand-frozen; Total of 54 items found\n",
      "Now doing sub-category: housebrand-rice-noodles-cooking-ingredients\n"
     ]
    },
    {
     "name": "stderr",
     "output_type": "stream",
     "text": [
      "\n"
     ]
    },
    {
     "name": "stdout",
     "output_type": "stream",
     "text": [
      "!!! CANNOT access number of items; likely layer 2 sub category, will extract max of 50 pages.\n"
     ]
    },
    {
     "name": "stderr",
     "output_type": "stream",
     "text": [
      " 20%|████████▌                                  | 10/50 [00:17<01:08,  1.72s/it]"
     ]
    },
    {
     "name": "stdout",
     "output_type": "stream",
     "text": [
      "page 11 does not exist.\n",
      "Done with sub-category: housebrand-rice-noodles-cooking-ingredients; Total of 198 items found\n",
      "Now doing sub-category: housebrand-drinks\n"
     ]
    },
    {
     "name": "stderr",
     "output_type": "stream",
     "text": [
      "\n"
     ]
    },
    {
     "name": "stdout",
     "output_type": "stream",
     "text": [
      "42 found; 3 pages to go through...\n"
     ]
    },
    {
     "name": "stderr",
     "output_type": "stream",
     "text": [
      "  0%|                                                     | 0/3 [00:02<?, ?it/s]"
     ]
    },
    {
     "name": "stdout",
     "output_type": "stream",
     "text": [
      "page 1 does not exist.\n",
      "Done with sub-category: housebrand-drinks; Total of 0 items found\n",
      "Now doing sub-category: housebrand-household\n"
     ]
    },
    {
     "name": "stderr",
     "output_type": "stream",
     "text": [
      "\n"
     ]
    },
    {
     "name": "stdout",
     "output_type": "stream",
     "text": [
      "275 found; 14 pages to go through...\n"
     ]
    },
    {
     "name": "stderr",
     "output_type": "stream",
     "text": [
      "  0%|                                                    | 0/14 [00:00<?, ?it/s]"
     ]
    },
    {
     "name": "stdout",
     "output_type": "stream",
     "text": [
      "page 1 does not exist.\n",
      "Done with sub-category: housebrand-household; Total of 0 items found\n",
      "Now doing sub-category: electrical--lifestyle-1\n"
     ]
    },
    {
     "name": "stderr",
     "output_type": "stream",
     "text": [
      "\n"
     ]
    },
    {
     "name": "stdout",
     "output_type": "stream",
     "text": [
      "101 found; 6 pages to go through...\n"
     ]
    },
    {
     "name": "stderr",
     "output_type": "stream",
     "text": [
      "  0%|                                                     | 0/6 [00:00<?, ?it/s]"
     ]
    },
    {
     "name": "stdout",
     "output_type": "stream",
     "text": [
      "page 1 does not exist.\n",
      "Done with sub-category: electrical--lifestyle-1; Total of 0 items found\n",
      "Now doing sub-category: health--wellness-1\n"
     ]
    },
    {
     "name": "stderr",
     "output_type": "stream",
     "text": [
      "\n"
     ]
    },
    {
     "name": "stdout",
     "output_type": "stream",
     "text": [
      "12 found; 1 pages to go through...\n"
     ]
    },
    {
     "name": "stderr",
     "output_type": "stream",
     "text": [
      "  0%|                                                     | 0/1 [00:00<?, ?it/s]"
     ]
    },
    {
     "name": "stdout",
     "output_type": "stream",
     "text": [
      "page 1 does not exist.\n",
      "Done with sub-category: health--wellness-1; Total of 0 items found\n",
      "Now doing sub-category: beauty--personal-care-1\n"
     ]
    },
    {
     "name": "stderr",
     "output_type": "stream",
     "text": [
      "\n"
     ]
    },
    {
     "name": "stdout",
     "output_type": "stream",
     "text": [
      "69 found; 4 pages to go through...\n"
     ]
    },
    {
     "name": "stderr",
     "output_type": "stream",
     "text": [
      "  0%|                                                     | 0/4 [00:00<?, ?it/s]"
     ]
    },
    {
     "name": "stdout",
     "output_type": "stream",
     "text": [
      "page 1 does not exist.\n",
      "Done with sub-category: beauty--personal-care-1; Total of 0 items found\n",
      "Now doing sub-category: food-cupboard-7\n"
     ]
    },
    {
     "name": "stderr",
     "output_type": "stream",
     "text": [
      "\n"
     ]
    },
    {
     "name": "stdout",
     "output_type": "stream",
     "text": [
      "!!! CANNOT access number of items; likely layer 2 sub category, will extract max of 50 pages.\n"
     ]
    },
    {
     "name": "stderr",
     "output_type": "stream",
     "text": [
      "  6%|██▋                                         | 3/50 [00:02<00:44,  1.06it/s]"
     ]
    },
    {
     "name": "stdout",
     "output_type": "stream",
     "text": [
      "page 4 does not exist.\n",
      "Done with sub-category: food-cupboard-7; Total of 51 items found\n",
      "Now doing sub-category: snacks--confectionery-1\n"
     ]
    },
    {
     "name": "stderr",
     "output_type": "stream",
     "text": [
      "\n"
     ]
    },
    {
     "name": "stdout",
     "output_type": "stream",
     "text": [
      "107 found; 6 pages to go through...\n"
     ]
    },
    {
     "name": "stderr",
     "output_type": "stream",
     "text": [
      "  0%|                                                     | 0/6 [00:00<?, ?it/s]"
     ]
    },
    {
     "name": "stdout",
     "output_type": "stream",
     "text": [
      "page 1 does not exist.\n",
      "Done with sub-category: snacks--confectionery-1; Total of 0 items found\n",
      "Now doing sub-category: laundry-care\n"
     ]
    },
    {
     "name": "stderr",
     "output_type": "stream",
     "text": [
      "\n"
     ]
    },
    {
     "name": "stdout",
     "output_type": "stream",
     "text": [
      "!!! CANNOT access number of items; likely layer 2 sub category, will extract max of 50 pages.\n"
     ]
    },
    {
     "name": "stderr",
     "output_type": "stream",
     "text": [
      " 32%|█████████████▊                             | 16/50 [00:10<00:22,  1.49it/s]"
     ]
    },
    {
     "name": "stdout",
     "output_type": "stream",
     "text": [
      "page 17 does not exist.\n",
      "Done with sub-category: laundry-care; Total of 304 items found\n",
      "Now doing sub-category: detergents\n"
     ]
    },
    {
     "name": "stderr",
     "output_type": "stream",
     "text": [
      "\n"
     ]
    },
    {
     "name": "stdout",
     "output_type": "stream",
     "text": [
      "!!! CANNOT access number of items; likely layer 2 sub category, will extract max of 50 pages.\n"
     ]
    },
    {
     "name": "stderr",
     "output_type": "stream",
     "text": [
      " 50%|█████████████████████▌                     | 25/50 [00:18<00:18,  1.32it/s]"
     ]
    },
    {
     "name": "stdout",
     "output_type": "stream",
     "text": [
      "page 26 does not exist.\n",
      "Done with sub-category: detergents; Total of 488 items found\n",
      "Now doing sub-category: dishwashing\n"
     ]
    },
    {
     "name": "stderr",
     "output_type": "stream",
     "text": [
      "\n"
     ]
    },
    {
     "name": "stdout",
     "output_type": "stream",
     "text": [
      "!!! CANNOT access number of items; likely layer 2 sub category, will extract max of 50 pages.\n"
     ]
    },
    {
     "name": "stderr",
     "output_type": "stream",
     "text": [
      " 24%|██████████▎                                | 12/50 [00:12<00:39,  1.03s/it]"
     ]
    },
    {
     "name": "stdout",
     "output_type": "stream",
     "text": [
      "page 13 does not exist.\n",
      "Done with sub-category: dishwashing; Total of 230 items found\n",
      "Now doing sub-category: cleaning-products-1\n"
     ]
    },
    {
     "name": "stderr",
     "output_type": "stream",
     "text": [
      "\n"
     ]
    },
    {
     "name": "stdout",
     "output_type": "stream",
     "text": [
      "!!! CANNOT access number of items; likely layer 2 sub category, will extract max of 50 pages.\n"
     ]
    },
    {
     "name": "stderr",
     "output_type": "stream",
     "text": [
      " 82%|███████████████████████████████████▎       | 41/50 [00:40<00:08,  1.02it/s]"
     ]
    },
    {
     "name": "stdout",
     "output_type": "stream",
     "text": [
      "page 42 does not exist.\n",
      "Done with sub-category: cleaning-products-1; Total of 818 items found\n",
      "Now doing sub-category: cleaning-tools-1\n"
     ]
    },
    {
     "name": "stderr",
     "output_type": "stream",
     "text": [
      "\n"
     ]
    },
    {
     "name": "stdout",
     "output_type": "stream",
     "text": [
      "!!! CANNOT access number of items; likely layer 2 sub category, will extract max of 50 pages.\n"
     ]
    },
    {
     "name": "stderr",
     "output_type": "stream",
     "text": [
      "100%|███████████████████████████████████████████| 50/50 [00:44<00:00,  1.12it/s]\n"
     ]
    },
    {
     "name": "stdout",
     "output_type": "stream",
     "text": [
      "Done with sub-category: cleaning-tools-1; Total of 1000 items found\n",
      "Now doing sub-category: fresheners\n",
      "!!! CANNOT access number of items; likely layer 2 sub category, will extract max of 50 pages.\n"
     ]
    },
    {
     "name": "stderr",
     "output_type": "stream",
     "text": [
      " 64%|███████████████████████████▌               | 32/50 [00:24<00:13,  1.31it/s]\n"
     ]
    },
    {
     "name": "stdout",
     "output_type": "stream",
     "text": [
      "page 33 does not exist.\n",
      "Done with sub-category: fresheners; Total of 631 items found\n",
      "Now doing sub-category: pest-control\n",
      "!!! CANNOT access number of items; likely layer 2 sub category, will extract max of 50 pages.\n"
     ]
    },
    {
     "name": "stderr",
     "output_type": "stream",
     "text": [
      " 12%|█████▎                                      | 6/50 [00:04<00:32,  1.37it/s]\n"
     ]
    },
    {
     "name": "stdout",
     "output_type": "stream",
     "text": [
      "page 7 does not exist.\n",
      "Done with sub-category: pest-control; Total of 107 items found\n",
      "Now doing sub-category: paper-tissue\n",
      "!!! CANNOT access number of items; likely layer 2 sub category, will extract max of 50 pages.\n"
     ]
    },
    {
     "name": "stderr",
     "output_type": "stream",
     "text": [
      " 54%|███████████████████████▏                   | 27/50 [00:19<00:16,  1.39it/s]"
     ]
    },
    {
     "name": "stdout",
     "output_type": "stream",
     "text": [
      "page 28 does not exist.\n",
      "Done with sub-category: paper-tissue; Total of 524 items found\n",
      "Now doing sub-category: kitchen-dining\n"
     ]
    },
    {
     "name": "stderr",
     "output_type": "stream",
     "text": [
      "\n"
     ]
    },
    {
     "name": "stdout",
     "output_type": "stream",
     "text": [
      "!!! CANNOT access number of items; likely layer 2 sub category, will extract max of 50 pages.\n"
     ]
    },
    {
     "name": "stderr",
     "output_type": "stream",
     "text": [
      "100%|███████████████████████████████████████████| 50/50 [00:48<00:00,  1.04it/s]\n"
     ]
    },
    {
     "name": "stdout",
     "output_type": "stream",
     "text": [
      "Done with sub-category: kitchen-dining; Total of 1000 items found\n",
      "Now doing sub-category: tableware-1\n",
      "!!! CANNOT access number of items; likely layer 2 sub category, will extract max of 50 pages.\n"
     ]
    },
    {
     "name": "stderr",
     "output_type": "stream",
     "text": [
      " 80%|██████████████████████████████████▍        | 40/50 [00:31<00:07,  1.27it/s]\n"
     ]
    },
    {
     "name": "stdout",
     "output_type": "stream",
     "text": [
      "page 41 does not exist.\n",
      "Done with sub-category: tableware-1; Total of 784 items found\n",
      "Now doing sub-category: drinkware\n",
      "!!! CANNOT access number of items; likely layer 2 sub category, will extract max of 50 pages.\n"
     ]
    },
    {
     "name": "stderr",
     "output_type": "stream",
     "text": [
      " 54%|███████████████████████▏                   | 27/50 [00:22<00:19,  1.18it/s]"
     ]
    },
    {
     "name": "stdout",
     "output_type": "stream",
     "text": [
      "page 28 does not exist.\n",
      "Done with sub-category: drinkware; Total of 523 items found\n",
      "Now doing sub-category: home-needs\n"
     ]
    },
    {
     "name": "stderr",
     "output_type": "stream",
     "text": [
      "\n"
     ]
    },
    {
     "name": "stdout",
     "output_type": "stream",
     "text": [
      "SOME ERROR OCCURED FOR sub-category home-needs; REDO\n",
      "list index out of range\n",
      "Now doing sub-category: bedding-needs\n",
      "!!! CANNOT access number of items; likely layer 2 sub category, will extract max of 50 pages.\n"
     ]
    },
    {
     "name": "stderr",
     "output_type": "stream",
     "text": [
      " 58%|████████████████████████▉                  | 29/50 [00:24<00:17,  1.18it/s]"
     ]
    },
    {
     "name": "stdout",
     "output_type": "stream",
     "text": [
      "page 30 does not exist.\n",
      "Done with sub-category: bedding-needs; Total of 574 items found\n",
      "Now doing sub-category: prayer-needs\n"
     ]
    },
    {
     "name": "stderr",
     "output_type": "stream",
     "text": [
      "\n"
     ]
    },
    {
     "name": "stdout",
     "output_type": "stream",
     "text": [
      "!!! CANNOT access number of items; likely layer 2 sub category, will extract max of 50 pages.\n"
     ]
    },
    {
     "name": "stderr",
     "output_type": "stream",
     "text": [
      " 18%|███████▉                                    | 9/50 [00:05<00:25,  1.61it/s]"
     ]
    },
    {
     "name": "stdout",
     "output_type": "stream",
     "text": [
      "page 10 does not exist.\n",
      "Done with sub-category: prayer-needs; Total of 162 items found\n",
      "Now doing sub-category: chicken\n"
     ]
    },
    {
     "name": "stderr",
     "output_type": "stream",
     "text": [
      "\n"
     ]
    },
    {
     "name": "stdout",
     "output_type": "stream",
     "text": [
      "!!! CANNOT access number of items; likely layer 2 sub category, will extract max of 50 pages.\n"
     ]
    },
    {
     "name": "stderr",
     "output_type": "stream",
     "text": [
      " 14%|██████▏                                     | 7/50 [00:04<00:28,  1.52it/s]\n"
     ]
    },
    {
     "name": "stdout",
     "output_type": "stream",
     "text": [
      "page 8 does not exist.\n",
      "Done with sub-category: chicken; Total of 128 items found\n",
      "Now doing sub-category: pork\n",
      "185 found; 10 pages to go through...\n"
     ]
    },
    {
     "name": "stderr",
     "output_type": "stream",
     "text": [
      "  0%|                                                    | 0/10 [00:00<?, ?it/s]"
     ]
    },
    {
     "name": "stdout",
     "output_type": "stream",
     "text": [
      "page 1 does not exist.\n",
      "Done with sub-category: pork; Total of 0 items found\n",
      "Now doing sub-category: beef-lamb-1\n"
     ]
    },
    {
     "name": "stderr",
     "output_type": "stream",
     "text": [
      "\n"
     ]
    },
    {
     "name": "stdout",
     "output_type": "stream",
     "text": [
      "213 found; 11 pages to go through...\n"
     ]
    },
    {
     "name": "stderr",
     "output_type": "stream",
     "text": [
      "  0%|                                                    | 0/11 [00:00<?, ?it/s]"
     ]
    },
    {
     "name": "stdout",
     "output_type": "stream",
     "text": [
      "page 1 does not exist.\n",
      "Done with sub-category: beef-lamb-1; Total of 0 items found\n",
      "Now doing sub-category: fish---seafood\n"
     ]
    },
    {
     "name": "stderr",
     "output_type": "stream",
     "text": [
      "\n"
     ]
    },
    {
     "name": "stdout",
     "output_type": "stream",
     "text": [
      "720 found; 36 pages to go through...\n"
     ]
    },
    {
     "name": "stderr",
     "output_type": "stream",
     "text": [
      "  0%|                                                    | 0/36 [00:00<?, ?it/s]"
     ]
    },
    {
     "name": "stdout",
     "output_type": "stream",
     "text": [
      "page 1 does not exist.\n",
      "Done with sub-category: fish---seafood; Total of 0 items found\n",
      "Now doing sub-category: meatballs\n"
     ]
    },
    {
     "name": "stderr",
     "output_type": "stream",
     "text": [
      "\n"
     ]
    },
    {
     "name": "stdout",
     "output_type": "stream",
     "text": [
      "12 found; 1 pages to go through...\n"
     ]
    },
    {
     "name": "stderr",
     "output_type": "stream",
     "text": [
      "  0%|                                                     | 0/1 [00:00<?, ?it/s]"
     ]
    },
    {
     "name": "stdout",
     "output_type": "stream",
     "text": [
      "page 1 does not exist.\n",
      "Done with sub-category: meatballs; Total of 0 items found\n",
      "Now doing sub-category: for-dogs\n"
     ]
    },
    {
     "name": "stderr",
     "output_type": "stream",
     "text": [
      "\n"
     ]
    },
    {
     "name": "stdout",
     "output_type": "stream",
     "text": [
      "1345 found; 68 pages to go through...\n"
     ]
    },
    {
     "name": "stderr",
     "output_type": "stream",
     "text": [
      "  0%|                                                    | 0/68 [00:00<?, ?it/s]"
     ]
    },
    {
     "name": "stdout",
     "output_type": "stream",
     "text": [
      "page 1 does not exist.\n",
      "Done with sub-category: for-dogs; Total of 0 items found\n",
      "Now doing sub-category: for-cats\n"
     ]
    },
    {
     "name": "stderr",
     "output_type": "stream",
     "text": [
      "\n"
     ]
    },
    {
     "name": "stdout",
     "output_type": "stream",
     "text": [
      "1060 found; 53 pages to go through...\n"
     ]
    },
    {
     "name": "stderr",
     "output_type": "stream",
     "text": [
      "  0%|                                                    | 0/53 [00:00<?, ?it/s]"
     ]
    },
    {
     "name": "stdout",
     "output_type": "stream",
     "text": [
      "page 1 does not exist.\n",
      "Done with sub-category: for-cats; Total of 0 items found\n",
      "Now doing sub-category: for-small-pets-1\n"
     ]
    },
    {
     "name": "stderr",
     "output_type": "stream",
     "text": [
      "\n"
     ]
    },
    {
     "name": "stdout",
     "output_type": "stream",
     "text": [
      "204 found; 11 pages to go through...\n"
     ]
    },
    {
     "name": "stderr",
     "output_type": "stream",
     "text": [
      "  0%|                                                    | 0/11 [00:00<?, ?it/s]"
     ]
    },
    {
     "name": "stdout",
     "output_type": "stream",
     "text": [
      "page 1 does not exist.\n",
      "Done with sub-category: for-small-pets-1; Total of 0 items found\n",
      "Now doing sub-category: for-aquatic-animals-1\n"
     ]
    },
    {
     "name": "stderr",
     "output_type": "stream",
     "text": [
      "\n"
     ]
    },
    {
     "name": "stdout",
     "output_type": "stream",
     "text": [
      "112 found; 6 pages to go through...\n"
     ]
    },
    {
     "name": "stderr",
     "output_type": "stream",
     "text": [
      "  0%|                                                     | 0/6 [00:00<?, ?it/s]"
     ]
    },
    {
     "name": "stdout",
     "output_type": "stream",
     "text": [
      "page 1 does not exist.\n",
      "Done with sub-category: for-aquatic-animals-1; Total of 0 items found\n",
      "Now doing sub-category: baking-needs\n"
     ]
    },
    {
     "name": "stderr",
     "output_type": "stream",
     "text": [
      "\n"
     ]
    },
    {
     "name": "stdout",
     "output_type": "stream",
     "text": [
      "508 found; 26 pages to go through...\n"
     ]
    },
    {
     "name": "stderr",
     "output_type": "stream",
     "text": [
      "  0%|                                                    | 0/26 [00:00<?, ?it/s]"
     ]
    },
    {
     "name": "stdout",
     "output_type": "stream",
     "text": [
      "page 1 does not exist.\n",
      "Done with sub-category: baking-needs; Total of 0 items found\n",
      "Now doing sub-category: rice\n"
     ]
    },
    {
     "name": "stderr",
     "output_type": "stream",
     "text": [
      "\n"
     ]
    },
    {
     "name": "stdout",
     "output_type": "stream",
     "text": [
      "425 found; 22 pages to go through...\n"
     ]
    },
    {
     "name": "stderr",
     "output_type": "stream",
     "text": [
      "  0%|                                                    | 0/22 [00:00<?, ?it/s]"
     ]
    },
    {
     "name": "stdout",
     "output_type": "stream",
     "text": [
      "page 1 does not exist.\n",
      "Done with sub-category: rice; Total of 0 items found\n",
      "Now doing sub-category: noodles--1\n"
     ]
    },
    {
     "name": "stderr",
     "output_type": "stream",
     "text": [
      "\n"
     ]
    },
    {
     "name": "stdout",
     "output_type": "stream",
     "text": [
      "436 found; 22 pages to go through...\n"
     ]
    },
    {
     "name": "stderr",
     "output_type": "stream",
     "text": [
      "  0%|                                                    | 0/22 [00:00<?, ?it/s]"
     ]
    },
    {
     "name": "stdout",
     "output_type": "stream",
     "text": [
      "page 1 does not exist.\n",
      "Done with sub-category: noodles--1; Total of 0 items found\n",
      "Now doing sub-category: pasta--1\n"
     ]
    },
    {
     "name": "stderr",
     "output_type": "stream",
     "text": [
      "\n"
     ]
    },
    {
     "name": "stdout",
     "output_type": "stream",
     "text": [
      "!!! CANNOT access number of items; likely layer 2 sub category, will extract max of 50 pages.\n"
     ]
    },
    {
     "name": "stderr",
     "output_type": "stream",
     "text": [
      " 26%|███████████▏                               | 13/50 [00:12<00:34,  1.06it/s]"
     ]
    },
    {
     "name": "stdout",
     "output_type": "stream",
     "text": [
      "page 14 does not exist.\n",
      "Done with sub-category: pasta--1; Total of 245 items found\n",
      "Now doing sub-category: sugar-sweeteners\n"
     ]
    },
    {
     "name": "stderr",
     "output_type": "stream",
     "text": [
      "\n"
     ]
    },
    {
     "name": "stdout",
     "output_type": "stream",
     "text": [
      "237 found; 12 pages to go through...\n"
     ]
    },
    {
     "name": "stderr",
     "output_type": "stream",
     "text": [
      "  0%|                                                    | 0/12 [00:00<?, ?it/s]"
     ]
    },
    {
     "name": "stdout",
     "output_type": "stream",
     "text": [
      "page 1 does not exist.\n",
      "Done with sub-category: sugar-sweeteners; Total of 0 items found\n",
      "Now doing sub-category: oil\n"
     ]
    },
    {
     "name": "stderr",
     "output_type": "stream",
     "text": [
      "\n"
     ]
    },
    {
     "name": "stdout",
     "output_type": "stream",
     "text": [
      "!!! CANNOT access number of items; likely layer 2 sub category, will extract max of 50 pages.\n"
     ]
    },
    {
     "name": "stderr",
     "output_type": "stream",
     "text": [
      " 38%|████████████████▎                          | 19/50 [00:15<00:25,  1.21it/s]\n"
     ]
    },
    {
     "name": "stdout",
     "output_type": "stream",
     "text": [
      "page 20 does not exist.\n",
      "Done with sub-category: oil; Total of 379 items found\n",
      "Now doing sub-category: cooking-paste---sauces\n",
      "851 found; 43 pages to go through...\n"
     ]
    },
    {
     "name": "stderr",
     "output_type": "stream",
     "text": [
      "  0%|                                                    | 0/43 [00:00<?, ?it/s]"
     ]
    },
    {
     "name": "stdout",
     "output_type": "stream",
     "text": [
      "page 1 does not exist.\n",
      "Done with sub-category: cooking-paste---sauces; Total of 0 items found\n",
      "Now doing sub-category: condiments\n"
     ]
    },
    {
     "name": "stderr",
     "output_type": "stream",
     "text": [
      "\n"
     ]
    },
    {
     "name": "stdout",
     "output_type": "stream",
     "text": [
      "SOME ERROR OCCURED FOR sub-category condiments; REDO\n",
      "list index out of range\n",
      "Now doing sub-category: seasonings\n",
      "969 found; 49 pages to go through...\n"
     ]
    },
    {
     "name": "stderr",
     "output_type": "stream",
     "text": [
      "  0%|                                                    | 0/49 [00:00<?, ?it/s]"
     ]
    },
    {
     "name": "stdout",
     "output_type": "stream",
     "text": [
      "page 1 does not exist.\n",
      "Done with sub-category: seasonings; Total of 0 items found\n",
      "Now doing sub-category: soups\n"
     ]
    },
    {
     "name": "stderr",
     "output_type": "stream",
     "text": [
      "\n"
     ]
    },
    {
     "name": "stdout",
     "output_type": "stream",
     "text": [
      "247 found; 13 pages to go through...\n"
     ]
    },
    {
     "name": "stderr",
     "output_type": "stream",
     "text": [
      "  0%|                                                    | 0/13 [00:00<?, ?it/s]"
     ]
    },
    {
     "name": "stdout",
     "output_type": "stream",
     "text": [
      "page 1 does not exist.\n",
      "Done with sub-category: soups; Total of 0 items found\n",
      "Now doing sub-category: dried-food\n"
     ]
    },
    {
     "name": "stderr",
     "output_type": "stream",
     "text": [
      "\n"
     ]
    },
    {
     "name": "stdout",
     "output_type": "stream",
     "text": [
      "825 found; 42 pages to go through...\n"
     ]
    },
    {
     "name": "stderr",
     "output_type": "stream",
     "text": [
      "  0%|                                                    | 0/42 [00:00<?, ?it/s]"
     ]
    },
    {
     "name": "stdout",
     "output_type": "stream",
     "text": [
      "page 1 does not exist.\n",
      "Done with sub-category: dried-food; Total of 0 items found\n",
      "Now doing sub-category: sweets-1\n"
     ]
    },
    {
     "name": "stderr",
     "output_type": "stream",
     "text": [
      "\n"
     ]
    },
    {
     "name": "stdout",
     "output_type": "stream",
     "text": [
      "450 found; 23 pages to go through...\n"
     ]
    },
    {
     "name": "stderr",
     "output_type": "stream",
     "text": [
      "  0%|                                                    | 0/23 [00:00<?, ?it/s]"
     ]
    },
    {
     "name": "stdout",
     "output_type": "stream",
     "text": [
      "page 1 does not exist.\n",
      "Done with sub-category: sweets-1; Total of 0 items found\n",
      "Now doing sub-category: chocolates-1\n"
     ]
    },
    {
     "name": "stderr",
     "output_type": "stream",
     "text": [
      "\n"
     ]
    },
    {
     "name": "stdout",
     "output_type": "stream",
     "text": [
      "546 found; 28 pages to go through...\n"
     ]
    },
    {
     "name": "stderr",
     "output_type": "stream",
     "text": [
      "  0%|                                                    | 0/28 [00:00<?, ?it/s]"
     ]
    },
    {
     "name": "stdout",
     "output_type": "stream",
     "text": [
      "page 1 does not exist.\n",
      "Done with sub-category: chocolates-1; Total of 0 items found\n",
      "Now doing sub-category: biscuits\n"
     ]
    },
    {
     "name": "stderr",
     "output_type": "stream",
     "text": [
      "\n"
     ]
    },
    {
     "name": "stdout",
     "output_type": "stream",
     "text": [
      "1199 found; 60 pages to go through...\n"
     ]
    },
    {
     "name": "stderr",
     "output_type": "stream",
     "text": [
      "  0%|                                                    | 0/60 [00:00<?, ?it/s]"
     ]
    },
    {
     "name": "stdout",
     "output_type": "stream",
     "text": [
      "page 1 does not exist.\n",
      "Done with sub-category: biscuits; Total of 0 items found\n",
      "Now doing sub-category: snacks\n"
     ]
    },
    {
     "name": "stderr",
     "output_type": "stream",
     "text": [
      "\n"
     ]
    },
    {
     "name": "stdout",
     "output_type": "stream",
     "text": [
      "!!! CANNOT access number of items; likely layer 2 sub category, will extract max of 50 pages.\n"
     ]
    },
    {
     "name": "stderr",
     "output_type": "stream",
     "text": [
      "100%|███████████████████████████████████████████| 50/50 [00:42<00:00,  1.19it/s]\n"
     ]
    },
    {
     "name": "stdout",
     "output_type": "stream",
     "text": [
      "Done with sub-category: snacks; Total of 1000 items found\n",
      "Now doing sub-category: dried-fruits--nuts\n",
      "702 found; 36 pages to go through...\n"
     ]
    },
    {
     "name": "stderr",
     "output_type": "stream",
     "text": [
      "  0%|                                                    | 0/36 [00:00<?, ?it/s]"
     ]
    },
    {
     "name": "stdout",
     "output_type": "stream",
     "text": [
      "page 1 does not exist.\n",
      "Done with sub-category: dried-fruits--nuts; Total of 0 items found\n",
      "Now doing sub-category: party-supplies\n"
     ]
    },
    {
     "name": "stderr",
     "output_type": "stream",
     "text": [
      "\n"
     ]
    },
    {
     "name": "stdout",
     "output_type": "stream",
     "text": [
      "562 found; 29 pages to go through...\n"
     ]
    },
    {
     "name": "stderr",
     "output_type": "stream",
     "text": [
      "  0%|                                                    | 0/29 [00:00<?, ?it/s]"
     ]
    },
    {
     "name": "stdout",
     "output_type": "stream",
     "text": [
      "page 1 does not exist.\n",
      "Done with sub-category: party-supplies; Total of 0 items found\n",
      "Now doing sub-category: partyware\n"
     ]
    },
    {
     "name": "stderr",
     "output_type": "stream",
     "text": [
      "\n"
     ]
    },
    {
     "name": "stdout",
     "output_type": "stream",
     "text": [
      "326 found; 17 pages to go through...\n"
     ]
    },
    {
     "name": "stderr",
     "output_type": "stream",
     "text": [
      "  0%|                                                    | 0/17 [00:00<?, ?it/s]"
     ]
    },
    {
     "name": "stdout",
     "output_type": "stream",
     "text": [
      "page 1 does not exist.\n",
      "Done with sub-category: partyware; Total of 0 items found\n",
      "Now doing sub-category: electronics-appliances\n"
     ]
    },
    {
     "name": "stderr",
     "output_type": "stream",
     "text": [
      "\n"
     ]
    },
    {
     "name": "stdout",
     "output_type": "stream",
     "text": [
      "1521 found; 77 pages to go through...\n"
     ]
    },
    {
     "name": "stderr",
     "output_type": "stream",
     "text": [
      "  0%|                                                    | 0/77 [00:00<?, ?it/s]"
     ]
    },
    {
     "name": "stdout",
     "output_type": "stream",
     "text": [
      "page 1 does not exist.\n",
      "Done with sub-category: electronics-appliances; Total of 0 items found\n",
      "Now doing sub-category: home-appliances-1\n"
     ]
    },
    {
     "name": "stderr",
     "output_type": "stream",
     "text": [
      "\n"
     ]
    },
    {
     "name": "stdout",
     "output_type": "stream",
     "text": [
      "!!! CANNOT access number of items; likely layer 2 sub category, will extract max of 50 pages.\n"
     ]
    },
    {
     "name": "stderr",
     "output_type": "stream",
     "text": [
      "100%|███████████████████████████████████████████| 50/50 [01:03<00:00,  1.28s/it]\n"
     ]
    },
    {
     "name": "stdout",
     "output_type": "stream",
     "text": [
      "Done with sub-category: home-appliances-1; Total of 1000 items found\n",
      "Now doing sub-category: automotive\n",
      "113 found; 6 pages to go through...\n"
     ]
    },
    {
     "name": "stderr",
     "output_type": "stream",
     "text": [
      "  0%|                                                     | 0/6 [00:00<?, ?it/s]"
     ]
    },
    {
     "name": "stdout",
     "output_type": "stream",
     "text": [
      "page 1 does not exist.\n",
      "Done with sub-category: automotive; Total of 0 items found\n",
      "Now doing sub-category: lighting\n"
     ]
    },
    {
     "name": "stderr",
     "output_type": "stream",
     "text": [
      "\n"
     ]
    },
    {
     "name": "stdout",
     "output_type": "stream",
     "text": [
      "122 found; 7 pages to go through...\n"
     ]
    },
    {
     "name": "stderr",
     "output_type": "stream",
     "text": [
      "  0%|                                                     | 0/7 [00:00<?, ?it/s]"
     ]
    },
    {
     "name": "stdout",
     "output_type": "stream",
     "text": [
      "page 1 does not exist.\n",
      "Done with sub-category: lighting; Total of 0 items found\n",
      "Now doing sub-category: outdoor\n"
     ]
    },
    {
     "name": "stderr",
     "output_type": "stream",
     "text": [
      "\n"
     ]
    },
    {
     "name": "stdout",
     "output_type": "stream",
     "text": [
      "271 found; 14 pages to go through...\n"
     ]
    },
    {
     "name": "stderr",
     "output_type": "stream",
     "text": [
      "  0%|                                                    | 0/14 [00:01<?, ?it/s]"
     ]
    },
    {
     "name": "stdout",
     "output_type": "stream",
     "text": [
      "page 1 does not exist.\n",
      "Done with sub-category: outdoor; Total of 0 items found\n",
      "Now doing sub-category: fashion--accessories\n"
     ]
    },
    {
     "name": "stderr",
     "output_type": "stream",
     "text": [
      "\n"
     ]
    },
    {
     "name": "stdout",
     "output_type": "stream",
     "text": [
      "126 found; 7 pages to go through...\n"
     ]
    },
    {
     "name": "stderr",
     "output_type": "stream",
     "text": [
      "  0%|                                                     | 0/7 [00:00<?, ?it/s]"
     ]
    },
    {
     "name": "stdout",
     "output_type": "stream",
     "text": [
      "page 1 does not exist.\n",
      "Done with sub-category: fashion--accessories; Total of 0 items found\n",
      "Now doing sub-category: games--toys\n"
     ]
    },
    {
     "name": "stderr",
     "output_type": "stream",
     "text": [
      "\n"
     ]
    },
    {
     "name": "stdout",
     "output_type": "stream",
     "text": [
      "215 found; 11 pages to go through...\n"
     ]
    },
    {
     "name": "stderr",
     "output_type": "stream",
     "text": [
      "  0%|                                                    | 0/11 [00:00<?, ?it/s]"
     ]
    },
    {
     "name": "stdout",
     "output_type": "stream",
     "text": [
      "page 1 does not exist.\n",
      "Done with sub-category: games--toys; Total of 0 items found\n",
      "Now doing sub-category: books--1\n"
     ]
    },
    {
     "name": "stderr",
     "output_type": "stream",
     "text": [
      "\n"
     ]
    },
    {
     "name": "stdout",
     "output_type": "stream",
     "text": [
      "1 found; 1 pages to go through...\n"
     ]
    },
    {
     "name": "stderr",
     "output_type": "stream",
     "text": [
      "  0%|                                                     | 0/1 [00:00<?, ?it/s]"
     ]
    },
    {
     "name": "stdout",
     "output_type": "stream",
     "text": [
      "page 1 does not exist.\n",
      "Done with sub-category: books--1; Total of 0 items found\n",
      "Now doing sub-category: batteries\n"
     ]
    },
    {
     "name": "stderr",
     "output_type": "stream",
     "text": [
      "\n"
     ]
    },
    {
     "name": "stdout",
     "output_type": "stream",
     "text": [
      "112 found; 6 pages to go through...\n"
     ]
    },
    {
     "name": "stderr",
     "output_type": "stream",
     "text": [
      "  0%|                                                     | 0/6 [00:00<?, ?it/s]"
     ]
    },
    {
     "name": "stdout",
     "output_type": "stream",
     "text": [
      "page 1 does not exist.\n",
      "Done with sub-category: batteries; Total of 0 items found\n",
      "Now doing sub-category: stationery-5\n"
     ]
    },
    {
     "name": "stderr",
     "output_type": "stream",
     "text": [
      "\n"
     ]
    },
    {
     "name": "stdout",
     "output_type": "stream",
     "text": [
      "1359 found; 68 pages to go through...\n"
     ]
    },
    {
     "name": "stderr",
     "output_type": "stream",
     "text": [
      "  0%|                                                    | 0/68 [00:00<?, ?it/s]"
     ]
    },
    {
     "name": "stdout",
     "output_type": "stream",
     "text": [
      "page 1 does not exist.\n",
      "Done with sub-category: stationery-5; Total of 0 items found\n",
      "Now doing sub-category: gardening-3\n"
     ]
    },
    {
     "name": "stderr",
     "output_type": "stream",
     "text": [
      "\n"
     ]
    },
    {
     "name": "stdout",
     "output_type": "stream",
     "text": [
      "1029 found; 52 pages to go through...\n"
     ]
    },
    {
     "name": "stderr",
     "output_type": "stream",
     "text": [
      "  0%|                                                    | 0/52 [00:00<?, ?it/s]"
     ]
    },
    {
     "name": "stdout",
     "output_type": "stream",
     "text": [
      "page 1 does not exist.\n",
      "Done with sub-category: gardening-3; Total of 0 items found\n",
      "Now doing sub-category: travel-essentials-1\n"
     ]
    },
    {
     "name": "stderr",
     "output_type": "stream",
     "text": [
      "\n"
     ]
    },
    {
     "name": "stdout",
     "output_type": "stream",
     "text": [
      "181 found; 10 pages to go through...\n"
     ]
    },
    {
     "name": "stderr",
     "output_type": "stream",
     "text": [
      "  0%|                                                    | 0/10 [00:00<?, ?it/s]"
     ]
    },
    {
     "name": "stdout",
     "output_type": "stream",
     "text": [
      "page 1 does not exist.\n",
      "Done with sub-category: travel-essentials-1; Total of 0 items found\n"
     ]
    },
    {
     "name": "stderr",
     "output_type": "stream",
     "text": [
      "\n"
     ]
    }
   ],
   "source": [
    "import math\n",
    "\n",
    "# Loop through each category\n",
    "for cat in cats: \n",
    "    collect = []\n",
    "    \n",
    "    BASE_URL = 'https://www.fairprice.com.sg/category/'\n",
    "    print(f'Now doing sub-category: {cat}')\n",
    "    \n",
    "    try:\n",
    "        page = requests.get(BASE_URL + cat)\n",
    "        # Attempt to get item count of each sub-cat of every cat; will not work for sub-cat with sub-cats\n",
    "        soup = BeautifulSoup(page.content, 'html.parser')\n",
    "        \n",
    "        pages = 50 # Max that can be got; luckily most cats do not exceed this, only 2 or 3 do\n",
    "        items = soup.find_all('div', class_='jBLMxC')\n",
    "    \n",
    "        if len(items[0].find_all('span'))>1:\n",
    "            num_items = int(items[0].find_all('span')[1].get_text().split(' ')[0])\n",
    "            pages = math.ceil(num_items/20)\n",
    "            print(f'{num_items} found; {pages} pages to go through...')\n",
    "        else:\n",
    "            print('!!! CANNOT access number of items; likely layer 2 sub category, will extract max of 50 pages.')\n",
    "\n",
    "\n",
    "        for i in tqdm(range(1, pages+1)):\n",
    "            url = f'https://website-api.omni.fairprice.com.sg/api/layout/category/v2?algopers=prm-ppb-1%2Cprm-ep-1%2Ct-epds-1%2Ct-ppb-0%2Ct-ep-0&category={cat}&experiments=searchVariant-B%2CtimerVariant-Z%2CinlineBanner-A%2CsubstitutionBSVariant-B%2Cgv-A%2Cshelflife-B%2Cds-A%2CSDND_delivery_reason-A%2Cls_comsl-B%2Ccompatt-B%2Cls_deltime-ogA%2Cls_deltime-feA%2Ccartfiller-a%2Ccatnav-hide%2Ccatbubog-B%2Csbanner-A%2Ccount-b%2Ccam-b%2Cpriceperpiece-b%2Cls_deltime-sortA%2Cpromobanner-c%2Calgopers-b%2Cdelivery_pref_ffs-A%2Cdelivery_pref_pfc-B%2Ccrtalc-B&includeTagDetails=true&orderType=DELIVERY&page={i}&url={cat}'\n",
    "            response = requests.get(url)\n",
    "            \n",
    "            # Retrieve json data\n",
    "            if response.status_code == 200:\n",
    "                json_data = response.json()\n",
    "                try: # List index out of bound for ~60 of the sub-categories; replace with index 1\n",
    "                    x = json_data['data']['page']['layouts'][2]['value']['collection']['product']\n",
    "                    collect += x\n",
    "                except:\n",
    "                    # To catch the end for categories where page limit is unknown\n",
    "                    print(f'page {i} does not exist.')\n",
    "                    break\n",
    "            else: \n",
    "                print(f'error at getting json at {i}')\n",
    "\n",
    "        all_data[cat] = collect\n",
    "        print(f'Done with sub-category: {cat}; Total of {len(collect)} items found')\n",
    "        \n",
    "    except Exception as e:\n",
    "        print(f'SOME ERROR OCCURED FOR sub-category {cat}; REDO')\n",
    "        print(e)\n",
    "        error_cat.append(cat)"
   ]
  },
  {
   "cell_type": "code",
   "execution_count": 36,
   "id": "c2dee0d9",
   "metadata": {
    "scrolled": true
   },
   "outputs": [
    {
     "data": {
      "text/plain": [
       "['diapers-3074457345616687146-1', 'ready-to-eat--1']"
      ]
     },
     "execution_count": 36,
     "metadata": {},
     "output_type": "execute_result"
    }
   ],
   "source": [
    "fails = []\n",
    "for k, v in all_data.items():\n",
    "    if len(v) == 0:\n",
    "        fails.append(k)\n",
    "fails"
   ]
  },
  {
   "cell_type": "code",
   "execution_count": 19,
   "id": "7a748ecb",
   "metadata": {},
   "outputs": [],
   "source": [
    "all_data_backup = all_data"
   ]
  },
  {
   "cell_type": "code",
   "execution_count": 35,
   "id": "0767aa4d",
   "metadata": {
    "scrolled": true
   },
   "outputs": [
    {
     "name": "stdout",
     "output_type": "stream",
     "text": [
      "Now doing sub-category: mandarin-oranges-1\n",
      "31 found; 2 pages to go through...\n"
     ]
    },
    {
     "name": "stderr",
     "output_type": "stream",
     "text": [
      "100%|█████████████████████████████████████████████| 2/2 [00:00<00:00,  2.95it/s]\n"
     ]
    },
    {
     "name": "stdout",
     "output_type": "stream",
     "text": [
      "Done with sub-category: mandarin-oranges-1; Total of 31 items found\n",
      "Now doing sub-category: plants-and-decorations\n",
      "176 found; 9 pages to go through...\n"
     ]
    },
    {
     "name": "stderr",
     "output_type": "stream",
     "text": [
      "100%|█████████████████████████████████████████████| 9/9 [00:06<00:00,  1.50it/s]\n"
     ]
    },
    {
     "name": "stdout",
     "output_type": "stream",
     "text": [
      "Done with sub-category: plants-and-decorations; Total of 176 items found\n",
      "Now doing sub-category: infant-formula--1\n",
      "53 found; 3 pages to go through...\n"
     ]
    },
    {
     "name": "stderr",
     "output_type": "stream",
     "text": [
      "100%|█████████████████████████████████████████████| 3/3 [00:01<00:00,  2.04it/s]\n"
     ]
    },
    {
     "name": "stdout",
     "output_type": "stream",
     "text": [
      "Done with sub-category: infant-formula--1; Total of 53 items found\n",
      "Now doing sub-category: diapers-3074457345616687146-1\n",
      "!!! CANNOT access number of items; likely layer 2 sub category, will extract max of 50 pages.\n"
     ]
    },
    {
     "name": "stderr",
     "output_type": "stream",
     "text": [
      "  0%|                                                    | 0/50 [00:00<?, ?it/s]"
     ]
    },
    {
     "name": "stdout",
     "output_type": "stream",
     "text": [
      "page 1 does not exist.\n",
      "Done with sub-category: diapers-3074457345616687146-1; Total of 0 items found\n",
      "Now doing sub-category: breads--1\n"
     ]
    },
    {
     "name": "stderr",
     "output_type": "stream",
     "text": [
      "\n"
     ]
    },
    {
     "name": "stdout",
     "output_type": "stream",
     "text": [
      "319 found; 16 pages to go through...\n"
     ]
    },
    {
     "name": "stderr",
     "output_type": "stream",
     "text": [
      "100%|███████████████████████████████████████████| 16/16 [00:10<00:00,  1.59it/s]\n"
     ]
    },
    {
     "name": "stdout",
     "output_type": "stream",
     "text": [
      "Done with sub-category: breads--1; Total of 319 items found\n",
      "Now doing sub-category: butter--margarine---spreads\n",
      "61 found; 4 pages to go through...\n"
     ]
    },
    {
     "name": "stderr",
     "output_type": "stream",
     "text": [
      "100%|█████████████████████████████████████████████| 4/4 [00:02<00:00,  2.00it/s]\n"
     ]
    },
    {
     "name": "stdout",
     "output_type": "stream",
     "text": [
      "Done with sub-category: butter--margarine---spreads; Total of 61 items found\n",
      "Now doing sub-category: cream\n",
      "20 found; 1 pages to go through...\n"
     ]
    },
    {
     "name": "stderr",
     "output_type": "stream",
     "text": [
      "100%|█████████████████████████████████████████████| 1/1 [00:00<00:00,  2.31it/s]\n"
     ]
    },
    {
     "name": "stdout",
     "output_type": "stream",
     "text": [
      "Done with sub-category: cream; Total of 20 items found\n",
      "Now doing sub-category: delicatessen\n",
      "177 found; 9 pages to go through...\n"
     ]
    },
    {
     "name": "stderr",
     "output_type": "stream",
     "text": [
      "100%|█████████████████████████████████████████████| 9/9 [00:07<00:00,  1.28it/s]\n"
     ]
    },
    {
     "name": "stdout",
     "output_type": "stream",
     "text": [
      "Done with sub-category: delicatessen; Total of 177 items found\n",
      "Now doing sub-category: chilled-dessert\n",
      "30 found; 2 pages to go through...\n"
     ]
    },
    {
     "name": "stderr",
     "output_type": "stream",
     "text": [
      "100%|█████████████████████████████████████████████| 2/2 [00:00<00:00,  2.02it/s]\n"
     ]
    },
    {
     "name": "stdout",
     "output_type": "stream",
     "text": [
      "Done with sub-category: chilled-dessert; Total of 30 items found\n",
      "Now doing sub-category: drink-mixers\n",
      "28 found; 2 pages to go through...\n"
     ]
    },
    {
     "name": "stderr",
     "output_type": "stream",
     "text": [
      "100%|█████████████████████████████████████████████| 2/2 [00:01<00:00,  1.69it/s]\n"
     ]
    },
    {
     "name": "stdout",
     "output_type": "stream",
     "text": [
      "Done with sub-category: drink-mixers; Total of 28 items found\n",
      "Now doing sub-category: ready-to-eat--1\n",
      "SOME ERROR OCCURED FOR sub-category ready-to-eat--1; REDO\n",
      "list index out of range\n",
      "Now doing sub-category: ice-cream-6\n",
      "230 found; 12 pages to go through...\n"
     ]
    },
    {
     "name": "stderr",
     "output_type": "stream",
     "text": [
      "100%|███████████████████████████████████████████| 12/12 [00:07<00:00,  1.66it/s]\n"
     ]
    },
    {
     "name": "stdout",
     "output_type": "stream",
     "text": [
      "Done with sub-category: ice-cream-6; Total of 230 items found\n",
      "Now doing sub-category: frozen-dessert\n",
      "!!! CANNOT access number of items; likely layer 2 sub category, will extract max of 50 pages.\n"
     ]
    },
    {
     "name": "stderr",
     "output_type": "stream",
     "text": [
      " 10%|████▍                                       | 5/50 [00:02<00:25,  1.76it/s]"
     ]
    },
    {
     "name": "stdout",
     "output_type": "stream",
     "text": [
      "page 6 does not exist.\n",
      "Done with sub-category: frozen-dessert; Total of 82 items found\n",
      "Now doing sub-category: vegetables\n"
     ]
    },
    {
     "name": "stderr",
     "output_type": "stream",
     "text": [
      "\n"
     ]
    },
    {
     "name": "stdout",
     "output_type": "stream",
     "text": [
      "984 found; 50 pages to go through...\n"
     ]
    },
    {
     "name": "stderr",
     "output_type": "stream",
     "text": [
      "100%|███████████████████████████████████████████| 50/50 [00:34<00:00,  1.45it/s]\n"
     ]
    },
    {
     "name": "stdout",
     "output_type": "stream",
     "text": [
      "Done with sub-category: vegetables; Total of 984 items found\n",
      "Now doing sub-category: childrens-health--supplements\n",
      "187 found; 10 pages to go through...\n"
     ]
    },
    {
     "name": "stderr",
     "output_type": "stream",
     "text": [
      "100%|███████████████████████████████████████████| 10/10 [00:06<00:00,  1.43it/s]\n"
     ]
    },
    {
     "name": "stdout",
     "output_type": "stream",
     "text": [
      "Done with sub-category: childrens-health--supplements; Total of 187 items found\n",
      "Now doing sub-category: housebrand-beer-wine-spirit\n",
      "!!! CANNOT access number of items; likely layer 2 sub category, will extract max of 50 pages.\n"
     ]
    },
    {
     "name": "stderr",
     "output_type": "stream",
     "text": [
      "  2%|▉                                           | 1/50 [00:00<00:17,  2.79it/s]\n"
     ]
    },
    {
     "name": "stdout",
     "output_type": "stream",
     "text": [
      "page 2 does not exist.\n",
      "Done with sub-category: housebrand-beer-wine-spirit; Total of 2 items found\n",
      "Now doing sub-category: housebrand-baby-child-toys\n",
      "29 found; 2 pages to go through...\n"
     ]
    },
    {
     "name": "stderr",
     "output_type": "stream",
     "text": [
      "100%|█████████████████████████████████████████████| 2/2 [00:01<00:00,  1.44it/s]\n"
     ]
    },
    {
     "name": "stdout",
     "output_type": "stream",
     "text": [
      "Done with sub-category: housebrand-baby-child-toys; Total of 29 items found\n",
      "Now doing sub-category: housebrand-meat-seafood\n",
      "6 found; 1 pages to go through...\n"
     ]
    },
    {
     "name": "stderr",
     "output_type": "stream",
     "text": [
      "100%|█████████████████████████████████████████████| 1/1 [00:00<00:00,  2.27it/s]\n"
     ]
    },
    {
     "name": "stdout",
     "output_type": "stream",
     "text": [
      "Done with sub-category: housebrand-meat-seafood; Total of 6 items found\n",
      "Now doing sub-category: housebrand-dairy-chilled-eggs\n",
      "28 found; 2 pages to go through...\n"
     ]
    },
    {
     "name": "stderr",
     "output_type": "stream",
     "text": [
      "100%|█████████████████████████████████████████████| 2/2 [00:00<00:00,  2.20it/s]\n"
     ]
    },
    {
     "name": "stdout",
     "output_type": "stream",
     "text": [
      "Done with sub-category: housebrand-dairy-chilled-eggs; Total of 28 items found\n",
      "Now doing sub-category: housebrand-drinks\n",
      "42 found; 3 pages to go through...\n"
     ]
    },
    {
     "name": "stderr",
     "output_type": "stream",
     "text": [
      "100%|█████████████████████████████████████████████| 3/3 [00:01<00:00,  2.01it/s]\n"
     ]
    },
    {
     "name": "stdout",
     "output_type": "stream",
     "text": [
      "Done with sub-category: housebrand-drinks; Total of 42 items found\n",
      "Now doing sub-category: housebrand-household\n",
      "275 found; 14 pages to go through...\n"
     ]
    },
    {
     "name": "stderr",
     "output_type": "stream",
     "text": [
      "100%|███████████████████████████████████████████| 14/14 [00:08<00:00,  1.70it/s]\n"
     ]
    },
    {
     "name": "stdout",
     "output_type": "stream",
     "text": [
      "Done with sub-category: housebrand-household; Total of 275 items found\n",
      "Now doing sub-category: electrical--lifestyle-1\n",
      "101 found; 6 pages to go through...\n"
     ]
    },
    {
     "name": "stderr",
     "output_type": "stream",
     "text": [
      "100%|█████████████████████████████████████████████| 6/6 [00:03<00:00,  1.76it/s]\n"
     ]
    },
    {
     "name": "stdout",
     "output_type": "stream",
     "text": [
      "Done with sub-category: electrical--lifestyle-1; Total of 101 items found\n",
      "Now doing sub-category: health--wellness-1\n",
      "12 found; 1 pages to go through...\n"
     ]
    },
    {
     "name": "stderr",
     "output_type": "stream",
     "text": [
      "100%|█████████████████████████████████████████████| 1/1 [00:00<00:00,  2.74it/s]\n"
     ]
    },
    {
     "name": "stdout",
     "output_type": "stream",
     "text": [
      "Done with sub-category: health--wellness-1; Total of 12 items found\n",
      "Now doing sub-category: beauty--personal-care-1\n",
      "69 found; 4 pages to go through...\n"
     ]
    },
    {
     "name": "stderr",
     "output_type": "stream",
     "text": [
      "100%|█████████████████████████████████████████████| 4/4 [00:02<00:00,  1.82it/s]\n"
     ]
    },
    {
     "name": "stdout",
     "output_type": "stream",
     "text": [
      "Done with sub-category: beauty--personal-care-1; Total of 69 items found\n",
      "Now doing sub-category: snacks--confectionery-1\n",
      "107 found; 6 pages to go through...\n"
     ]
    },
    {
     "name": "stderr",
     "output_type": "stream",
     "text": [
      "100%|█████████████████████████████████████████████| 6/6 [00:03<00:00,  1.84it/s]\n"
     ]
    },
    {
     "name": "stdout",
     "output_type": "stream",
     "text": [
      "Done with sub-category: snacks--confectionery-1; Total of 107 items found\n",
      "Now doing sub-category: pork\n",
      "185 found; 10 pages to go through...\n"
     ]
    },
    {
     "name": "stderr",
     "output_type": "stream",
     "text": [
      "100%|███████████████████████████████████████████| 10/10 [00:05<00:00,  1.99it/s]\n"
     ]
    },
    {
     "name": "stdout",
     "output_type": "stream",
     "text": [
      "Done with sub-category: pork; Total of 185 items found\n",
      "Now doing sub-category: beef-lamb-1\n",
      "213 found; 11 pages to go through...\n"
     ]
    },
    {
     "name": "stderr",
     "output_type": "stream",
     "text": [
      "100%|███████████████████████████████████████████| 11/11 [00:05<00:00,  2.05it/s]\n"
     ]
    },
    {
     "name": "stdout",
     "output_type": "stream",
     "text": [
      "Done with sub-category: beef-lamb-1; Total of 213 items found\n",
      "Now doing sub-category: fish---seafood\n",
      "720 found; 36 pages to go through...\n"
     ]
    },
    {
     "name": "stderr",
     "output_type": "stream",
     "text": [
      "100%|███████████████████████████████████████████| 36/36 [00:21<00:00,  1.70it/s]\n"
     ]
    },
    {
     "name": "stdout",
     "output_type": "stream",
     "text": [
      "Done with sub-category: fish---seafood; Total of 720 items found\n",
      "Now doing sub-category: meatballs\n",
      "12 found; 1 pages to go through...\n"
     ]
    },
    {
     "name": "stderr",
     "output_type": "stream",
     "text": [
      "100%|█████████████████████████████████████████████| 1/1 [00:00<00:00,  2.86it/s]\n"
     ]
    },
    {
     "name": "stdout",
     "output_type": "stream",
     "text": [
      "Done with sub-category: meatballs; Total of 12 items found\n",
      "Now doing sub-category: for-dogs\n",
      "1345 found; 68 pages to go through...\n"
     ]
    },
    {
     "name": "stderr",
     "output_type": "stream",
     "text": [
      " 74%|███████████████████████████████▌           | 50/68 [00:39<00:14,  1.28it/s]"
     ]
    },
    {
     "name": "stdout",
     "output_type": "stream",
     "text": [
      "page 51 does not exist.\n",
      "Done with sub-category: for-dogs; Total of 1000 items found\n",
      "Now doing sub-category: for-cats\n"
     ]
    },
    {
     "name": "stderr",
     "output_type": "stream",
     "text": [
      "\n"
     ]
    },
    {
     "name": "stdout",
     "output_type": "stream",
     "text": [
      "1060 found; 53 pages to go through...\n"
     ]
    },
    {
     "name": "stderr",
     "output_type": "stream",
     "text": [
      " 94%|████████████████████████████████████████▌  | 50/53 [00:36<00:02,  1.36it/s]"
     ]
    },
    {
     "name": "stdout",
     "output_type": "stream",
     "text": [
      "page 51 does not exist.\n",
      "Done with sub-category: for-cats; Total of 1000 items found\n",
      "Now doing sub-category: for-small-pets-1\n"
     ]
    },
    {
     "name": "stderr",
     "output_type": "stream",
     "text": [
      "\n"
     ]
    },
    {
     "name": "stdout",
     "output_type": "stream",
     "text": [
      "204 found; 11 pages to go through...\n"
     ]
    },
    {
     "name": "stderr",
     "output_type": "stream",
     "text": [
      "100%|███████████████████████████████████████████| 11/11 [00:07<00:00,  1.43it/s]\n"
     ]
    },
    {
     "name": "stdout",
     "output_type": "stream",
     "text": [
      "Done with sub-category: for-small-pets-1; Total of 204 items found\n",
      "Now doing sub-category: for-aquatic-animals-1\n",
      "112 found; 6 pages to go through...\n"
     ]
    },
    {
     "name": "stderr",
     "output_type": "stream",
     "text": [
      "100%|█████████████████████████████████████████████| 6/6 [00:05<00:00,  1.15it/s]\n"
     ]
    },
    {
     "name": "stdout",
     "output_type": "stream",
     "text": [
      "Done with sub-category: for-aquatic-animals-1; Total of 112 items found\n",
      "Now doing sub-category: baking-needs\n",
      "508 found; 26 pages to go through...\n"
     ]
    },
    {
     "name": "stderr",
     "output_type": "stream",
     "text": [
      "100%|███████████████████████████████████████████| 26/26 [00:21<00:00,  1.24it/s]\n"
     ]
    },
    {
     "name": "stdout",
     "output_type": "stream",
     "text": [
      "Done with sub-category: baking-needs; Total of 508 items found\n",
      "Now doing sub-category: rice\n",
      "425 found; 22 pages to go through...\n"
     ]
    },
    {
     "name": "stderr",
     "output_type": "stream",
     "text": [
      "100%|███████████████████████████████████████████| 22/22 [00:18<00:00,  1.21it/s]\n"
     ]
    },
    {
     "name": "stdout",
     "output_type": "stream",
     "text": [
      "Done with sub-category: rice; Total of 425 items found\n",
      "Now doing sub-category: noodles--1\n",
      "436 found; 22 pages to go through...\n"
     ]
    },
    {
     "name": "stderr",
     "output_type": "stream",
     "text": [
      "100%|███████████████████████████████████████████| 22/22 [00:18<00:00,  1.22it/s]\n"
     ]
    },
    {
     "name": "stdout",
     "output_type": "stream",
     "text": [
      "Done with sub-category: noodles--1; Total of 436 items found\n",
      "Now doing sub-category: sugar-sweeteners\n",
      "237 found; 12 pages to go through...\n"
     ]
    },
    {
     "name": "stderr",
     "output_type": "stream",
     "text": [
      "100%|███████████████████████████████████████████| 12/12 [00:09<00:00,  1.27it/s]\n"
     ]
    },
    {
     "name": "stdout",
     "output_type": "stream",
     "text": [
      "Done with sub-category: sugar-sweeteners; Total of 237 items found\n",
      "Now doing sub-category: cooking-paste---sauces\n",
      "851 found; 43 pages to go through...\n"
     ]
    },
    {
     "name": "stderr",
     "output_type": "stream",
     "text": [
      "100%|███████████████████████████████████████████| 43/43 [00:32<00:00,  1.34it/s]\n"
     ]
    },
    {
     "name": "stdout",
     "output_type": "stream",
     "text": [
      "Done with sub-category: cooking-paste---sauces; Total of 851 items found\n",
      "Now doing sub-category: seasonings\n",
      "969 found; 49 pages to go through...\n"
     ]
    },
    {
     "name": "stderr",
     "output_type": "stream",
     "text": [
      "100%|███████████████████████████████████████████| 49/49 [00:35<00:00,  1.37it/s]\n"
     ]
    },
    {
     "name": "stdout",
     "output_type": "stream",
     "text": [
      "Done with sub-category: seasonings; Total of 969 items found\n",
      "Now doing sub-category: soups\n",
      "247 found; 13 pages to go through...\n"
     ]
    },
    {
     "name": "stderr",
     "output_type": "stream",
     "text": [
      "100%|███████████████████████████████████████████| 13/13 [00:08<00:00,  1.50it/s]\n"
     ]
    },
    {
     "name": "stdout",
     "output_type": "stream",
     "text": [
      "Done with sub-category: soups; Total of 247 items found\n",
      "Now doing sub-category: dried-food\n",
      "825 found; 42 pages to go through...\n"
     ]
    },
    {
     "name": "stderr",
     "output_type": "stream",
     "text": [
      "100%|███████████████████████████████████████████| 42/42 [00:32<00:00,  1.28it/s]\n"
     ]
    },
    {
     "name": "stdout",
     "output_type": "stream",
     "text": [
      "Done with sub-category: dried-food; Total of 825 items found\n",
      "Now doing sub-category: sweets-1\n",
      "450 found; 23 pages to go through...\n"
     ]
    },
    {
     "name": "stderr",
     "output_type": "stream",
     "text": [
      "100%|███████████████████████████████████████████| 23/23 [00:16<00:00,  1.36it/s]\n"
     ]
    },
    {
     "name": "stdout",
     "output_type": "stream",
     "text": [
      "Done with sub-category: sweets-1; Total of 450 items found\n",
      "Now doing sub-category: chocolates-1\n",
      "546 found; 28 pages to go through...\n"
     ]
    },
    {
     "name": "stderr",
     "output_type": "stream",
     "text": [
      "100%|███████████████████████████████████████████| 28/28 [00:21<00:00,  1.32it/s]\n"
     ]
    },
    {
     "name": "stdout",
     "output_type": "stream",
     "text": [
      "Done with sub-category: chocolates-1; Total of 546 items found\n",
      "Now doing sub-category: biscuits\n",
      "1199 found; 60 pages to go through...\n"
     ]
    },
    {
     "name": "stderr",
     "output_type": "stream",
     "text": [
      " 83%|███████████████████████████████████▊       | 50/60 [00:35<00:07,  1.39it/s]\n"
     ]
    },
    {
     "name": "stdout",
     "output_type": "stream",
     "text": [
      "page 51 does not exist.\n",
      "Done with sub-category: biscuits; Total of 1000 items found\n",
      "Now doing sub-category: dried-fruits--nuts\n",
      "702 found; 36 pages to go through...\n"
     ]
    },
    {
     "name": "stderr",
     "output_type": "stream",
     "text": [
      "100%|███████████████████████████████████████████| 36/36 [00:24<00:00,  1.46it/s]\n"
     ]
    },
    {
     "name": "stdout",
     "output_type": "stream",
     "text": [
      "Done with sub-category: dried-fruits--nuts; Total of 702 items found\n",
      "Now doing sub-category: party-supplies\n",
      "562 found; 29 pages to go through...\n"
     ]
    },
    {
     "name": "stderr",
     "output_type": "stream",
     "text": [
      "100%|███████████████████████████████████████████| 29/29 [00:20<00:00,  1.43it/s]\n"
     ]
    },
    {
     "name": "stdout",
     "output_type": "stream",
     "text": [
      "Done with sub-category: party-supplies; Total of 562 items found\n",
      "Now doing sub-category: partyware\n",
      "326 found; 17 pages to go through...\n"
     ]
    },
    {
     "name": "stderr",
     "output_type": "stream",
     "text": [
      "100%|███████████████████████████████████████████| 17/17 [00:14<00:00,  1.18it/s]\n"
     ]
    },
    {
     "name": "stdout",
     "output_type": "stream",
     "text": [
      "Done with sub-category: partyware; Total of 326 items found\n",
      "Now doing sub-category: electronics-appliances\n",
      "1521 found; 77 pages to go through...\n"
     ]
    },
    {
     "name": "stderr",
     "output_type": "stream",
     "text": [
      " 65%|███████████████████████████▉               | 50/77 [00:38<00:20,  1.31it/s]"
     ]
    },
    {
     "name": "stdout",
     "output_type": "stream",
     "text": [
      "page 51 does not exist.\n",
      "Done with sub-category: electronics-appliances; Total of 1000 items found\n",
      "Now doing sub-category: automotive\n"
     ]
    },
    {
     "name": "stderr",
     "output_type": "stream",
     "text": [
      "\n"
     ]
    },
    {
     "name": "stdout",
     "output_type": "stream",
     "text": [
      "113 found; 6 pages to go through...\n"
     ]
    },
    {
     "name": "stderr",
     "output_type": "stream",
     "text": [
      "100%|█████████████████████████████████████████████| 6/6 [00:06<00:00,  1.15s/it]\n"
     ]
    },
    {
     "name": "stdout",
     "output_type": "stream",
     "text": [
      "Done with sub-category: automotive; Total of 113 items found\n",
      "Now doing sub-category: lighting\n",
      "122 found; 7 pages to go through...\n"
     ]
    },
    {
     "name": "stderr",
     "output_type": "stream",
     "text": [
      "100%|█████████████████████████████████████████████| 7/7 [00:05<00:00,  1.38it/s]\n"
     ]
    },
    {
     "name": "stdout",
     "output_type": "stream",
     "text": [
      "Done with sub-category: lighting; Total of 122 items found\n",
      "Now doing sub-category: outdoor\n",
      "271 found; 14 pages to go through...\n"
     ]
    },
    {
     "name": "stderr",
     "output_type": "stream",
     "text": [
      "100%|███████████████████████████████████████████| 14/14 [00:17<00:00,  1.28s/it]\n"
     ]
    },
    {
     "name": "stdout",
     "output_type": "stream",
     "text": [
      "Done with sub-category: outdoor; Total of 271 items found\n",
      "Now doing sub-category: fashion--accessories\n",
      "126 found; 7 pages to go through...\n"
     ]
    },
    {
     "name": "stderr",
     "output_type": "stream",
     "text": [
      "100%|█████████████████████████████████████████████| 7/7 [00:19<00:00,  2.82s/it]\n"
     ]
    },
    {
     "name": "stdout",
     "output_type": "stream",
     "text": [
      "Done with sub-category: fashion--accessories; Total of 126 items found\n",
      "Now doing sub-category: games--toys\n",
      "215 found; 11 pages to go through...\n"
     ]
    },
    {
     "name": "stderr",
     "output_type": "stream",
     "text": [
      "100%|███████████████████████████████████████████| 11/11 [00:14<00:00,  1.28s/it]\n"
     ]
    },
    {
     "name": "stdout",
     "output_type": "stream",
     "text": [
      "Done with sub-category: games--toys; Total of 215 items found\n",
      "Now doing sub-category: books--1\n",
      "1 found; 1 pages to go through...\n"
     ]
    },
    {
     "name": "stderr",
     "output_type": "stream",
     "text": [
      "100%|█████████████████████████████████████████████| 1/1 [00:00<00:00,  3.48it/s]\n"
     ]
    },
    {
     "name": "stdout",
     "output_type": "stream",
     "text": [
      "Done with sub-category: books--1; Total of 1 items found\n",
      "Now doing sub-category: batteries\n",
      "112 found; 6 pages to go through...\n"
     ]
    },
    {
     "name": "stderr",
     "output_type": "stream",
     "text": [
      "100%|█████████████████████████████████████████████| 6/6 [00:04<00:00,  1.45it/s]\n"
     ]
    },
    {
     "name": "stdout",
     "output_type": "stream",
     "text": [
      "Done with sub-category: batteries; Total of 112 items found\n",
      "Now doing sub-category: stationery-5\n",
      "1359 found; 68 pages to go through...\n"
     ]
    },
    {
     "name": "stderr",
     "output_type": "stream",
     "text": [
      " 74%|███████████████████████████████▌           | 50/68 [00:48<00:17,  1.04it/s]"
     ]
    },
    {
     "name": "stdout",
     "output_type": "stream",
     "text": [
      "page 51 does not exist.\n",
      "Done with sub-category: stationery-5; Total of 1000 items found\n",
      "Now doing sub-category: gardening-3\n"
     ]
    },
    {
     "name": "stderr",
     "output_type": "stream",
     "text": [
      "\n"
     ]
    },
    {
     "name": "stdout",
     "output_type": "stream",
     "text": [
      "1029 found; 52 pages to go through...\n"
     ]
    },
    {
     "name": "stderr",
     "output_type": "stream",
     "text": [
      " 96%|█████████████████████████████████████████▎ | 50/52 [00:41<00:01,  1.21it/s]"
     ]
    },
    {
     "name": "stdout",
     "output_type": "stream",
     "text": [
      "page 51 does not exist.\n",
      "Done with sub-category: gardening-3; Total of 1000 items found\n",
      "Now doing sub-category: travel-essentials-1\n"
     ]
    },
    {
     "name": "stderr",
     "output_type": "stream",
     "text": [
      "\n"
     ]
    },
    {
     "name": "stdout",
     "output_type": "stream",
     "text": [
      "181 found; 10 pages to go through...\n"
     ]
    },
    {
     "name": "stderr",
     "output_type": "stream",
     "text": [
      "100%|███████████████████████████████████████████| 10/10 [00:05<00:00,  1.78it/s]"
     ]
    },
    {
     "name": "stdout",
     "output_type": "stream",
     "text": [
      "Done with sub-category: travel-essentials-1; Total of 181 items found\n"
     ]
    },
    {
     "name": "stderr",
     "output_type": "stream",
     "text": [
      "\n"
     ]
    }
   ],
   "source": [
    "# Exact same as above, just replace with index 1; \n",
    "\n",
    "for cat in fails:\n",
    "    collect = []\n",
    "    \n",
    "    BASE_URL = 'https://www.fairprice.com.sg/category/'\n",
    "    print(f'Now doing sub-category: {cat}')\n",
    "    \n",
    "    try:\n",
    "        page = requests.get(BASE_URL + cat)\n",
    "        soup = BeautifulSoup(page.content, 'html.parser')\n",
    "        \n",
    "        pages = 50\n",
    "        \n",
    "        items = soup.find_all('div', class_='jBLMxC')\n",
    "    \n",
    "        if len(items[0].find_all('span'))>1:\n",
    "            num_items = int(items[0].find_all('span')[1].get_text().split(' ')[0])\n",
    "            pages = math.ceil(num_items/20)\n",
    "            print(f'{num_items} found; {pages} pages to go through...')\n",
    "        else:\n",
    "            print('!!! CANNOT access number of items; likely layer 2 sub category, will extract max of 50 pages.')\n",
    "\n",
    "\n",
    "        for i in tqdm(range(1, pages+1)):\n",
    "            url = f'https://website-api.omni.fairprice.com.sg/api/layout/category/v2?algopers=prm-ppb-1%2Cprm-ep-1%2Ct-epds-1%2Ct-ppb-0%2Ct-ep-0&category={cat}&experiments=searchVariant-B%2CtimerVariant-Z%2CinlineBanner-A%2CsubstitutionBSVariant-B%2Cgv-A%2Cshelflife-B%2Cds-A%2CSDND_delivery_reason-A%2Cls_comsl-B%2Ccompatt-B%2Cls_deltime-ogA%2Cls_deltime-feA%2Ccartfiller-a%2Ccatnav-hide%2Ccatbubog-B%2Csbanner-A%2Ccount-b%2Ccam-b%2Cpriceperpiece-b%2Cls_deltime-sortA%2Cpromobanner-c%2Calgopers-b%2Cdelivery_pref_ffs-A%2Cdelivery_pref_pfc-B%2Ccrtalc-B&includeTagDetails=true&orderType=DELIVERY&page={i}&url={cat}'\n",
    "            response = requests.get(url)\n",
    "            if response.status_code == 200:\n",
    "                json_data = response.json()\n",
    "                try:\n",
    "                    x = json_data['data']['page']['layouts'][1]['value']['collection']['product']\n",
    "                    collect+=x\n",
    "                except:\n",
    "                    print(f'page {i} does not exist.')\n",
    "                    break\n",
    "            else: \n",
    "                print(f'error at getting json at {i}')\n",
    "\n",
    "        all_data[cat] = collect\n",
    "        print(f'Done with sub-category: {cat}; Total of {len(collect)} items found')\n",
    "    except Exception as e:\n",
    "        print(f'SOME ERROR OCCURED FOR sub-category {cat}; REDO')\n",
    "        print(e)\n",
    "        error_cat.append(cat) "
   ]
  },
  {
   "cell_type": "code",
   "execution_count": 37,
   "id": "546ac3ec",
   "metadata": {},
   "outputs": [],
   "source": [
    "import json\n",
    "\n",
    "file_path = \"output_final.json\"\n",
    "with open(file_path, 'w') as json_file:\n",
    "    json.dump(all_data, json_file)"
   ]
  }
 ],
 "metadata": {
  "kernelspec": {
   "display_name": "Python 3 (ipykernel)",
   "language": "python",
   "name": "python3"
  },
  "language_info": {
   "codemirror_mode": {
    "name": "ipython",
    "version": 3
   },
   "file_extension": ".py",
   "mimetype": "text/x-python",
   "name": "python",
   "nbconvert_exporter": "python",
   "pygments_lexer": "ipython3",
   "version": "3.9.12"
  }
 },
 "nbformat": 4,
 "nbformat_minor": 5
}
