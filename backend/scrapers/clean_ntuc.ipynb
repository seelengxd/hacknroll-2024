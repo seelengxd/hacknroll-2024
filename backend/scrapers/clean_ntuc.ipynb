{
 "cells": [
  {
   "cell_type": "code",
   "execution_count": 50,
   "id": "fdc3681b",
   "metadata": {},
   "outputs": [],
   "source": [
    "import json\n",
    "\n",
    "file_path = \"../../../output_final.json\"\n",
    "with open(file_path, 'r') as json_file:\n",
    "    data = json.load(json_file)"
   ]
  },
  {
   "cell_type": "code",
   "execution_count": 51,
   "id": "c24557b6",
   "metadata": {},
   "outputs": [],
   "source": [
    "products = []\n",
    "b = [] #to check duplicates\n",
    "failed = []\n",
    "base_url = 'https://www.fairprice.com.sg/product/'"
   ]
  },
  {
   "cell_type": "code",
   "execution_count": 52,
   "id": "776e9954",
   "metadata": {},
   "outputs": [],
   "source": [
    "dups = 0\n",
    "\n",
    "def get_offer_qty(item):\n",
    "    try:\n",
    "        rule = item['offers'][0]['rule']\n",
    "        for _, v in rule['buy'].items(): #strong assumption only one kind of offers avail at one time\n",
    "            return v['q'], item['offers'][0]['price'],item['offers'][0]['description'] \n",
    "    except:\n",
    "        return None, None, None\n",
    "    \n",
    "\n",
    "for cat, all_items in data.items():\n",
    "    for item in all_items:\n",
    "        product = {}\n",
    "        present = False\n",
    "        barcodes = item['barcodes']\n",
    "        \n",
    "        #check for duplicates\n",
    "        if barcodes:\n",
    "            for barcode in barcodes:\n",
    "                if barcode in b:\n",
    "                    #PRODUCT already within dict, add additional category if needed\n",
    "                    present = True\n",
    "                else:\n",
    "                    b.append(barcode)\n",
    "                    dups+=1\n",
    "        \n",
    "        if present:\n",
    "            continue\n",
    "            \n",
    "        try:\n",
    "            product['product_url'] = base_url + item['slug']\n",
    "            product['market_id'] = 1\n",
    "            product['barcodes'] = barcodes\n",
    "            product['brand'] = item['brand']['clientId']\n",
    "            product['price'] = item['final_price']\n",
    "            product['availability'] = item['has_stock']\n",
    "            product['name'] = item['name']\n",
    "            \n",
    "            try:\n",
    "                product['image'] = item['images'][0]\n",
    "            except:\n",
    "                product['image'] = None\n",
    "                \n",
    "            try:\n",
    "                product['quantity'] = item['metaData']['DisplayUnit']\n",
    "            except:\n",
    "                product['quantity'] = None\n",
    "            product['offer_qty'],product['offer_price'],product['offer_desc'] = get_offer_qty(item)\n",
    "       \n",
    "            products.append(product)\n",
    "        except Exception as e:\n",
    "            failed.append([item, e])"
   ]
  },
  {
   "cell_type": "code",
   "execution_count": 53,
   "id": "18afa17d",
   "metadata": {},
   "outputs": [
    {
     "data": {
      "text/plain": [
       "0"
      ]
     },
     "execution_count": 53,
     "metadata": {},
     "output_type": "execute_result"
    }
   ],
   "source": [
    "len(failed)"
   ]
  },
  {
   "cell_type": "code",
   "execution_count": 54,
   "id": "b1515852",
   "metadata": {},
   "outputs": [
    {
     "data": {
      "text/plain": [
       "49835"
      ]
     },
     "execution_count": 54,
     "metadata": {},
     "output_type": "execute_result"
    }
   ],
   "source": [
    "len(products)"
   ]
  },
  {
   "cell_type": "code",
   "execution_count": 25,
   "id": "49510c95",
   "metadata": {},
   "outputs": [
    {
     "data": {
      "text/plain": [
       "TypeError(\"'NoneType' object is not subscriptable\")"
      ]
     },
     "execution_count": 25,
     "metadata": {},
     "output_type": "execute_result"
    }
   ],
   "source": [
    "failed[0][1]"
   ]
  },
  {
   "cell_type": "code",
   "execution_count": 33,
   "id": "bf6bea32",
   "metadata": {},
   "outputs": [
    {
     "data": {
      "text/plain": [
       "52447"
      ]
     },
     "execution_count": 33,
     "metadata": {},
     "output_type": "execute_result"
    }
   ],
   "source": [
    "dups"
   ]
  },
  {
   "cell_type": "code",
   "execution_count": 48,
   "id": "c4281c44",
   "metadata": {},
   "outputs": [
    {
     "data": {
      "text/plain": [
       "{'url': 'https://www.fairprice.com.sg/product/coles-tuna-chunks-in-olive-oil-blend-95g-13213962',\n",
       " 'market_id': 1,\n",
       " 'barcodes': ['9300601173402', '9310645095196'],\n",
       " 'brand': 'COLES',\n",
       " 'price': 1.98,\n",
       " 'availability': False,\n",
       " 'name': 'Coles Tuna Chunks in Olive Oil Blend',\n",
       " 'image': 'https://media.nedigital.sg/fairprice/fpol/media/images/product/XL/13213962_XL1_20240102.jpg',\n",
       " 'quantity': '95g',\n",
       " 'offer_qty': 1,\n",
       " 'offer_price': 1.79,\n",
       " 'offer_desc': 'Buy 1 Coles Tuna Chunks in Olive Oil Blend @ $1.79'}"
      ]
     },
     "execution_count": 48,
     "metadata": {},
     "output_type": "execute_result"
    }
   ],
   "source": [
    "products[1]"
   ]
  },
  {
   "cell_type": "code",
   "execution_count": 55,
   "id": "6665be0d",
   "metadata": {},
   "outputs": [],
   "source": [
    "import json\n",
    "\n",
    "rand = {}\n",
    "rand['all'] = products\n",
    "\n",
    "file_path = \"ntuc_cleaned.json\"\n",
    "with open(file_path, 'w') as json_file:\n",
    "    json.dump(rand, json_file)"
   ]
  }
 ],
 "metadata": {
  "kernelspec": {
   "display_name": "Python 3 (ipykernel)",
   "language": "python",
   "name": "python3"
  },
  "language_info": {
   "codemirror_mode": {
    "name": "ipython",
    "version": 3
   },
   "file_extension": ".py",
   "mimetype": "text/x-python",
   "name": "python",
   "nbconvert_exporter": "python",
   "pygments_lexer": "ipython3",
   "version": "3.9.12"
  }
 },
 "nbformat": 4,
 "nbformat_minor": 5
}
