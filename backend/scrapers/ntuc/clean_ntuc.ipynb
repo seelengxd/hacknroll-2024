{
 "cells": [
  {
   "cell_type": "code",
   "execution_count": 2,
   "id": "fdc3681b",
   "metadata": {},
   "outputs": [
    {
     "ename": "FileNotFoundError",
     "evalue": "[Errno 2] No such file or directory: '../../../output_final.json'",
     "output_type": "error",
     "traceback": [
      "\u001b[0;31m---------------------------------------------------------------------------\u001b[0m",
      "\u001b[0;31mFileNotFoundError\u001b[0m                         Traceback (most recent call last)",
      "Cell \u001b[0;32mIn[2], line 4\u001b[0m\n\u001b[1;32m      1\u001b[0m \u001b[38;5;28;01mimport\u001b[39;00m \u001b[38;5;21;01mjson\u001b[39;00m\n\u001b[1;32m      3\u001b[0m file_path \u001b[38;5;241m=\u001b[39m \u001b[38;5;124m\"\u001b[39m\u001b[38;5;124m../../../output_final.json\u001b[39m\u001b[38;5;124m\"\u001b[39m\n\u001b[0;32m----> 4\u001b[0m \u001b[38;5;28;01mwith\u001b[39;00m \u001b[38;5;28;43mopen\u001b[39;49m\u001b[43m(\u001b[49m\u001b[43mfile_path\u001b[49m\u001b[43m,\u001b[49m\u001b[43m \u001b[49m\u001b[38;5;124;43m'\u001b[39;49m\u001b[38;5;124;43mr\u001b[39;49m\u001b[38;5;124;43m'\u001b[39;49m\u001b[43m)\u001b[49m \u001b[38;5;28;01mas\u001b[39;00m json_file:\n\u001b[1;32m      5\u001b[0m     data \u001b[38;5;241m=\u001b[39m json\u001b[38;5;241m.\u001b[39mload(json_file)\n\u001b[1;32m      7\u001b[0m \u001b[38;5;28mlist\u001b[39m(data\u001b[38;5;241m.\u001b[39mkeys())\n",
      "File \u001b[0;32m~/Desktop/projects/hnr2024/venv/lib/python3.10/site-packages/IPython/core/interactiveshell.py:310\u001b[0m, in \u001b[0;36m_modified_open\u001b[0;34m(file, *args, **kwargs)\u001b[0m\n\u001b[1;32m    303\u001b[0m \u001b[38;5;28;01mif\u001b[39;00m file \u001b[38;5;129;01min\u001b[39;00m {\u001b[38;5;241m0\u001b[39m, \u001b[38;5;241m1\u001b[39m, \u001b[38;5;241m2\u001b[39m}:\n\u001b[1;32m    304\u001b[0m     \u001b[38;5;28;01mraise\u001b[39;00m \u001b[38;5;167;01mValueError\u001b[39;00m(\n\u001b[1;32m    305\u001b[0m         \u001b[38;5;124mf\u001b[39m\u001b[38;5;124m\"\u001b[39m\u001b[38;5;124mIPython won\u001b[39m\u001b[38;5;124m'\u001b[39m\u001b[38;5;124mt let you open fd=\u001b[39m\u001b[38;5;132;01m{\u001b[39;00mfile\u001b[38;5;132;01m}\u001b[39;00m\u001b[38;5;124m by default \u001b[39m\u001b[38;5;124m\"\u001b[39m\n\u001b[1;32m    306\u001b[0m         \u001b[38;5;124m\"\u001b[39m\u001b[38;5;124mas it is likely to crash IPython. If you know what you are doing, \u001b[39m\u001b[38;5;124m\"\u001b[39m\n\u001b[1;32m    307\u001b[0m         \u001b[38;5;124m\"\u001b[39m\u001b[38;5;124myou can use builtins\u001b[39m\u001b[38;5;124m'\u001b[39m\u001b[38;5;124m open.\u001b[39m\u001b[38;5;124m\"\u001b[39m\n\u001b[1;32m    308\u001b[0m     )\n\u001b[0;32m--> 310\u001b[0m \u001b[38;5;28;01mreturn\u001b[39;00m \u001b[43mio_open\u001b[49m\u001b[43m(\u001b[49m\u001b[43mfile\u001b[49m\u001b[43m,\u001b[49m\u001b[43m \u001b[49m\u001b[38;5;241;43m*\u001b[39;49m\u001b[43margs\u001b[49m\u001b[43m,\u001b[49m\u001b[43m \u001b[49m\u001b[38;5;241;43m*\u001b[39;49m\u001b[38;5;241;43m*\u001b[39;49m\u001b[43mkwargs\u001b[49m\u001b[43m)\u001b[49m\n",
      "\u001b[0;31mFileNotFoundError\u001b[0m: [Errno 2] No such file or directory: '../../../output_final.json'"
     ]
    }
   ],
   "source": [
    "import json\n",
    "\n",
    "file_path = \"../../../output_final.json\"\n",
    "with open(file_path, 'r') as json_file:\n",
    "    data = json.load(json_file)\n",
    "\n",
    "list(data.keys())"
   ]
  },
  {
   "cell_type": "code",
   "execution_count": 51,
   "id": "c24557b6",
   "metadata": {},
   "outputs": [],
   "source": [
    "products = []\n",
    "b = [] #to check duplicates\n",
    "failed = []\n",
    "base_url = 'https://www.fairprice.com.sg/product/'"
   ]
  },
  {
   "cell_type": "code",
   "execution_count": 52,
   "id": "776e9954",
   "metadata": {},
   "outputs": [],
   "source": [
    "dups = 0\n",
    "\n",
    "def get_offer_qty(item):\n",
    "    try:\n",
    "        rule = item['offers'][0]['rule']\n",
    "        for _, v in rule['buy'].items(): #strong assumption only one kind of offers avail at one time\n",
    "            return v['q'], item['offers'][0]['price'],item['offers'][0]['description'] \n",
    "    except:\n",
    "        return None, None, None\n",
    "    \n",
    "\n",
    "for cat, all_items in data.items():\n",
    "    for item in all_items:\n",
    "        product = {}\n",
    "        present = False\n",
    "        barcodes = item['barcodes']\n",
    "        \n",
    "        #check for duplicates\n",
    "        if barcodes:\n",
    "            for barcode in barcodes:\n",
    "                if barcode in b:\n",
    "                    #PRODUCT already within dict, add additional category if needed\n",
    "                    present = True\n",
    "                else:\n",
    "                    b.append(barcode)\n",
    "                    dups+=1\n",
    "        \n",
    "        if present:\n",
    "            continue\n",
    "            \n",
    "        try:\n",
    "            product['product_url'] = base_url + item['slug']\n",
    "            product['market_id'] = 1\n",
    "            product['barcodes'] = barcodes\n",
    "            product['brand'] = item['brand']['clientId']\n",
    "            product['price'] = item['final_price']\n",
    "            product['availability'] = item['has_stock']\n",
    "            product['name'] = item['name']\n",
    "            \n",
    "            try:\n",
    "                product['image'] = item['images'][0]\n",
    "            except:\n",
    "                product['image'] = None\n",
    "                \n",
    "            try:\n",
    "                product['quantity'] = item['metaData']['DisplayUnit']\n",
    "            except:\n",
    "                product['quantity'] = None\n",
    "            product['offer_qty'],product['offer_price'],product['offer_desc'] = get_offer_qty(item)\n",
    "       \n",
    "            products.append(product)\n",
    "        except Exception as e:\n",
    "            failed.append([item, e])"
   ]
  },
  {
   "cell_type": "code",
   "execution_count": 53,
   "id": "18afa17d",
   "metadata": {},
   "outputs": [
    {
     "data": {
      "text/plain": [
       "0"
      ]
     },
     "execution_count": 53,
     "metadata": {},
     "output_type": "execute_result"
    }
   ],
   "source": [
    "len(failed)"
   ]
  },
  {
   "cell_type": "code",
   "execution_count": 54,
   "id": "b1515852",
   "metadata": {},
   "outputs": [
    {
     "data": {
      "text/plain": [
       "49835"
      ]
     },
     "execution_count": 54,
     "metadata": {},
     "output_type": "execute_result"
    }
   ],
   "source": [
    "len(products)"
   ]
  },
  {
   "cell_type": "code",
   "execution_count": 25,
   "id": "49510c95",
   "metadata": {},
   "outputs": [
    {
     "data": {
      "text/plain": [
       "TypeError(\"'NoneType' object is not subscriptable\")"
      ]
     },
     "execution_count": 25,
     "metadata": {},
     "output_type": "execute_result"
    }
   ],
   "source": [
    "failed[0][1]"
   ]
  },
  {
   "cell_type": "code",
   "execution_count": 33,
   "id": "bf6bea32",
   "metadata": {},
   "outputs": [
    {
     "data": {
      "text/plain": [
       "52447"
      ]
     },
     "execution_count": 33,
     "metadata": {},
     "output_type": "execute_result"
    }
   ],
   "source": [
    "dups"
   ]
  },
  {
   "cell_type": "code",
   "execution_count": 48,
   "id": "c4281c44",
   "metadata": {},
   "outputs": [
    {
     "data": {
      "text/plain": [
       "{'url': 'https://www.fairprice.com.sg/product/coles-tuna-chunks-in-olive-oil-blend-95g-13213962',\n",
       " 'market_id': 1,\n",
       " 'barcodes': ['9300601173402', '9310645095196'],\n",
       " 'brand': 'COLES',\n",
       " 'price': 1.98,\n",
       " 'availability': False,\n",
       " 'name': 'Coles Tuna Chunks in Olive Oil Blend',\n",
       " 'image': 'https://media.nedigital.sg/fairprice/fpol/media/images/product/XL/13213962_XL1_20240102.jpg',\n",
       " 'quantity': '95g',\n",
       " 'offer_qty': 1,\n",
       " 'offer_price': 1.79,\n",
       " 'offer_desc': 'Buy 1 Coles Tuna Chunks in Olive Oil Blend @ $1.79'}"
      ]
     },
     "execution_count": 48,
     "metadata": {},
     "output_type": "execute_result"
    }
   ],
   "source": [
    "products[1]"
   ]
  },
  {
   "cell_type": "code",
   "execution_count": 55,
   "id": "6665be0d",
   "metadata": {},
   "outputs": [],
   "source": [
    "import json\n",
    "\n",
    "rand = {}\n",
    "rand['all'] = products\n",
    "\n",
    "file_path = \"ntuc_cleaned.json\"\n",
    "with open(file_path, 'w') as json_file:\n",
    "    json.dump(rand, json_file)"
   ]
  }
 ],
 "metadata": {
  "kernelspec": {
   "display_name": "Python 3 (ipykernel)",
   "language": "python",
   "name": "python3"
  },
  "language_info": {
   "codemirror_mode": {
    "name": "ipython",
    "version": 3
   },
   "file_extension": ".py",
   "mimetype": "text/x-python",
   "name": "python",
   "nbconvert_exporter": "python",
   "pygments_lexer": "ipython3",
   "version": "3.10.11"
  }
 },
 "nbformat": 4,
 "nbformat_minor": 5
}
